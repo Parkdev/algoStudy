{
 "cells": [
  {
   "cell_type": "code",
   "execution_count": 1,
   "metadata": {},
   "outputs": [
    {
     "name": "stdout",
     "output_type": "stream",
     "text": [
      "[1, 2, 3, 4, 5]\n"
     ]
    }
   ],
   "source": [
    "#2751\n",
    "import sys\n",
    "\n",
    "n = int(sys.stdin.readline().rstrip())\n",
    "nums = []\n",
    "for _ in range(n):\n",
    "  nums.append(int(sys.stdin.readline().rstrip()))\n",
    "nums.sort()\n",
    "for i in (nums):\n",
    "  print (i)"
   ]
  },
  {
   "cell_type": "code",
   "execution_count": 2,
   "metadata": {},
   "outputs": [
    {
     "name": "stdout",
     "output_type": "stream",
     "text": [
      "NO\n"
     ]
    }
   ],
   "source": [
    "#9012\n",
    "n = int(input())\n",
    "for _ in range(n):\n",
    "  result = \"\"\n",
    "  ps = input()\n",
    "  while result == \"\":\n",
    "    if ps == \"\":\n",
    "      result = \"YES\"\n",
    "      break\n",
    "    else:\n",
    "      try:\n",
    "        for i, s in enumerate(ps):\n",
    "          if s == '(':\n",
    "            if ps[i+1] == ')':\n",
    "              ps = ps[:i] + ps[i+2:]\n",
    "              break\n",
    "            else:\n",
    "              continue\n",
    "          else:\n",
    "            result = \"NO\"\n",
    "            break\n",
    "      except:\n",
    "        result = \"NO\"\n",
    "        break\n",
    "  print(result)"
   ]
  },
  {
   "cell_type": "code",
   "execution_count": 6,
   "metadata": {},
   "outputs": [
    {
     "name": "stdout",
     "output_type": "stream",
     "text": [
      "(0, '(')\n",
      "(1, ')')\n",
      ")\n"
     ]
    },
    {
     "ename": "AttributeError",
     "evalue": "'str' object has no attribute 'pop'",
     "output_type": "error",
     "traceback": [
      "\u001b[0;31m---------------------------------------------------------------------------\u001b[0m",
      "\u001b[0;31mAttributeError\u001b[0m                            Traceback (most recent call last)",
      "Cell \u001b[0;32mIn[6], line 5\u001b[0m\n\u001b[1;32m      3\u001b[0m   \u001b[38;5;28mprint\u001b[39m (i)\n\u001b[1;32m      4\u001b[0m \u001b[38;5;28mprint\u001b[39m(a[\u001b[38;5;241m1\u001b[39m])\n\u001b[0;32m----> 5\u001b[0m \u001b[43ma\u001b[49m\u001b[38;5;241;43m.\u001b[39;49m\u001b[43mpop\u001b[49m()\n",
      "\u001b[0;31mAttributeError\u001b[0m: 'str' object has no attribute 'pop'"
     ]
    }
   ],
   "source": [
    "n = int(input())\n",
    "for _ in range(n):\n",
    "  result = \"\"\n",
    "  stack = []\n",
    "  ps = input()\n",
    "  for i in ps:\n",
    "    if i == \"(\":\n",
    "      stack.append(i)\n",
    "    else :\n",
    "      if stack:\n",
    "        stack.pop()\n",
    "      else:\n",
    "        result=\"NO\"\n",
    "        break\n",
    "  else:\n",
    "    if len(stack):\n",
    "      result=\"NO\"\n",
    "    else:\n",
    "      result=\"YES\"\n",
    "  print(result)\n"
   ]
  },
  {
   "cell_type": "code",
   "execution_count": 8,
   "metadata": {},
   "outputs": [
    {
     "name": "stdout",
     "output_type": "stream",
     "text": [
      "2\n",
      "2\n",
      "0\n",
      "2\n",
      "1\n",
      "0\n",
      "-1\n",
      "1\n",
      "-1\n",
      "0\n",
      "3\n"
     ]
    }
   ],
   "source": [
    "#10828\n",
    "import sys\n",
    "stack = []\n",
    "n = int(sys.stdin.readline().rstrip())\n",
    "for _ in range(n):\n",
    "  command = sys.stdin.readline().rstrip()\n",
    "  if command.startswith(\"push\"):\n",
    "    _, num = command.split()\n",
    "    stack.append(int(num))\n",
    "  elif command == \"pop\":\n",
    "    if stack:\n",
    "      print(stack.pop())\n",
    "    else:\n",
    "      print(-1)\n",
    "  elif command == \"size\":\n",
    "    print(len(stack))\n",
    "  elif command == \"empty\":\n",
    "    print(0 if len(stack) else 1)\n",
    "  elif command == \"top\":\n",
    "    if stack:\n",
    "      print(stack[-1])\n",
    "    else:\n",
    "      print(-1) \n",
    "    \n"
   ]
  },
  {
   "cell_type": "code",
   "execution_count": 5,
   "metadata": {},
   "outputs": [
    {
     "ename": "ValueError",
     "evalue": "invalid literal for int() with base 10: ''",
     "output_type": "error",
     "traceback": [
      "\u001b[0;31m---------------------------------------------------------------------------\u001b[0m",
      "\u001b[0;31mValueError\u001b[0m                                Traceback (most recent call last)",
      "Cell \u001b[0;32mIn[5], line 1\u001b[0m\n\u001b[0;32m----> 1\u001b[0m n \u001b[38;5;241m=\u001b[39m \u001b[38;5;28;43mint\u001b[39;49m\u001b[43m(\u001b[49m\u001b[38;5;28;43minput\u001b[39;49m\u001b[43m(\u001b[49m\u001b[43m)\u001b[49m\u001b[43m)\u001b[49m\n\u001b[1;32m      2\u001b[0m members \u001b[38;5;241m=\u001b[39m []\n\u001b[1;32m      3\u001b[0m \u001b[38;5;28;01mfor\u001b[39;00m _ \u001b[38;5;129;01min\u001b[39;00m \u001b[38;5;28mrange\u001b[39m(n):\n",
      "\u001b[0;31mValueError\u001b[0m: invalid literal for int() with base 10: ''"
     ]
    }
   ],
   "source": [
    "n = int(input())\n",
    "members = []\n",
    "for _ in range(n):\n",
    "  age, name = input().split()\n",
    "  members.append((age,name))\n",
    "members.sort(key=members[[0]])\n",
    "\n"
   ]
  }
 ],
 "metadata": {
  "kernelspec": {
   "display_name": "Python 3",
   "language": "python",
   "name": "python3"
  },
  "language_info": {
   "codemirror_mode": {
    "name": "ipython",
    "version": 3
   },
   "file_extension": ".py",
   "mimetype": "text/x-python",
   "name": "python",
   "nbconvert_exporter": "python",
   "pygments_lexer": "ipython3",
   "version": "3.10.12"
  }
 },
 "nbformat": 4,
 "nbformat_minor": 2
}
