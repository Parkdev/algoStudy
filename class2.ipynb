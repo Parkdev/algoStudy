{
 "cells": [
  {
   "cell_type": "code",
   "execution_count": 1,
   "metadata": {},
   "outputs": [
    {
     "name": "stdout",
     "output_type": "stream",
     "text": [
      "[1, 2, 3, 4, 5]\n"
     ]
    }
   ],
   "source": [
    "#2751\n",
    "import sys\n",
    "\n",
    "n = int(sys.stdin.readline().rstrip())\n",
    "nums = []\n",
    "for _ in range(n):\n",
    "  nums.append(int(sys.stdin.readline().rstrip()))\n",
    "nums.sort()\n",
    "for i in (nums):\n",
    "  print (i)"
   ]
  },
  {
   "cell_type": "code",
   "execution_count": 2,
   "metadata": {},
   "outputs": [
    {
     "name": "stdout",
     "output_type": "stream",
     "text": [
      "NO\n"
     ]
    }
   ],
   "source": [
    "#9012\n",
    "n = int(input())\n",
    "for _ in range(n):\n",
    "  result = \"\"\n",
    "  ps = input()\n",
    "  while result == \"\":\n",
    "    if ps == \"\":\n",
    "      result = \"YES\"\n",
    "      break\n",
    "    else:\n",
    "      try:\n",
    "        for i, s in enumerate(ps):\n",
    "          if s == '(':\n",
    "            if ps[i+1] == ')':\n",
    "              ps = ps[:i] + ps[i+2:]\n",
    "              break\n",
    "            else:\n",
    "              continue\n",
    "          else:\n",
    "            result = \"NO\"\n",
    "            break\n",
    "      except:\n",
    "        result = \"NO\"\n",
    "        break\n",
    "  print(result)"
   ]
  },
  {
   "cell_type": "code",
   "execution_count": 6,
   "metadata": {},
   "outputs": [
    {
     "name": "stdout",
     "output_type": "stream",
     "text": [
      "(0, '(')\n",
      "(1, ')')\n",
      ")\n"
     ]
    },
    {
     "ename": "AttributeError",
     "evalue": "'str' object has no attribute 'pop'",
     "output_type": "error",
     "traceback": [
      "\u001b[0;31m---------------------------------------------------------------------------\u001b[0m",
      "\u001b[0;31mAttributeError\u001b[0m                            Traceback (most recent call last)",
      "Cell \u001b[0;32mIn[6], line 5\u001b[0m\n\u001b[1;32m      3\u001b[0m   \u001b[38;5;28mprint\u001b[39m (i)\n\u001b[1;32m      4\u001b[0m \u001b[38;5;28mprint\u001b[39m(a[\u001b[38;5;241m1\u001b[39m])\n\u001b[0;32m----> 5\u001b[0m \u001b[43ma\u001b[49m\u001b[38;5;241;43m.\u001b[39;49m\u001b[43mpop\u001b[49m()\n",
      "\u001b[0;31mAttributeError\u001b[0m: 'str' object has no attribute 'pop'"
     ]
    }
   ],
   "source": [
    "n = int(input())\n",
    "for _ in range(n):\n",
    "  result = \"\"\n",
    "  stack = []\n",
    "  ps = input()\n",
    "  for i in ps:\n",
    "    if i == \"(\":\n",
    "      stack.append(i)\n",
    "    else :\n",
    "      if stack:\n",
    "        stack.pop()\n",
    "      else:\n",
    "        result=\"NO\"\n",
    "        break\n",
    "  else:\n",
    "    if len(stack):\n",
    "      result=\"NO\"\n",
    "    else:\n",
    "      result=\"YES\"\n",
    "  print(result)\n"
   ]
  },
  {
   "cell_type": "code",
   "execution_count": 8,
   "metadata": {},
   "outputs": [
    {
     "name": "stdout",
     "output_type": "stream",
     "text": [
      "2\n",
      "2\n",
      "0\n",
      "2\n",
      "1\n",
      "0\n",
      "-1\n",
      "1\n",
      "-1\n",
      "0\n",
      "3\n"
     ]
    }
   ],
   "source": [
    "#10828 스택\n",
    "import sys\n",
    "stack = []\n",
    "n = int(sys.stdin.readline().rstrip())\n",
    "for _ in range(n):\n",
    "  command = sys.stdin.readline().rstrip()\n",
    "  if command.startswith(\"push\"):\n",
    "    _, num = command.split()\n",
    "    stack.append(int(num))\n",
    "  elif command == \"pop\":\n",
    "    if stack:\n",
    "      print(stack.pop())\n",
    "    else:\n",
    "      print(-1)\n",
    "  elif command == \"size\":\n",
    "    print(len(stack))\n",
    "  elif command == \"empty\":\n",
    "    print(0 if len(stack) else 1)\n",
    "  elif command == \"top\":\n",
    "    if stack:\n",
    "      print(stack[-1])\n",
    "    else:\n",
    "      print(-1) \n",
    "    \n"
   ]
  },
  {
   "cell_type": "code",
   "execution_count": 6,
   "metadata": {},
   "outputs": [
    {
     "name": "stdout",
     "output_type": "stream",
     "text": [
      "[(20, 'Sunyoung'), (21, 'Junkyu'), (21, 'Dohyun')]\n"
     ]
    }
   ],
   "source": [
    "mem = [(21,'Junkyu'),(21,'Dohyun'),(20,'Sunyoung')]\n",
    "\n",
    "sorted_mem = sorted(mem, key= lambda x: x[0])\n",
    "print(sorted_mem)\n"
   ]
  },
  {
   "cell_type": "code",
   "execution_count": 8,
   "metadata": {},
   "outputs": [
    {
     "name": "stdout",
     "output_type": "stream",
     "text": [
      "20 sun\n",
      "21 jun\n",
      "21 do\n"
     ]
    }
   ],
   "source": [
    "#10814\n",
    "import sys\n",
    "\n",
    "n = int(sys.stdin.readline().rstrip())\n",
    "members = []\n",
    "for _ in range(n):\n",
    "  age, name = sys.stdin.readline().split()\n",
    "  members.append((int(age),name))\n",
    "sorted_mem = sorted(members, key= lambda x: x[0])\n",
    "for i, j in sorted_mem:\n",
    "  print(i, j)"
   ]
  },
  {
   "cell_type": "code",
   "execution_count": null,
   "metadata": {},
   "outputs": [],
   "source": []
  },
  {
   "cell_type": "code",
   "execution_count": 1,
   "metadata": {},
   "outputs": [
    {
     "ename": "KeyboardInterrupt",
     "evalue": "",
     "output_type": "error",
     "traceback": [
      "\u001b[0;31m---------------------------------------------------------------------------\u001b[0m",
      "\u001b[0;31mKeyboardInterrupt\u001b[0m                         Traceback (most recent call last)",
      "Cell \u001b[0;32mIn[1], line 3\u001b[0m\n\u001b[1;32m      1\u001b[0m \u001b[38;5;28;01mimport\u001b[39;00m \u001b[38;5;21;01msys\u001b[39;00m\n\u001b[0;32m----> 3\u001b[0m n \u001b[38;5;241m=\u001b[39m \u001b[38;5;28mint\u001b[39m(\u001b[43msys\u001b[49m\u001b[38;5;241;43m.\u001b[39;49m\u001b[43mstdin\u001b[49m\u001b[38;5;241;43m.\u001b[39;49m\u001b[43mreadline\u001b[49m\u001b[43m(\u001b[49m\u001b[43m)\u001b[49m\u001b[38;5;241m.\u001b[39mrstrip())\n\u001b[1;32m      4\u001b[0m cards \u001b[38;5;241m=\u001b[39m \u001b[38;5;28mlist\u001b[39m(\u001b[38;5;28mmap\u001b[39m(\u001b[38;5;28mint\u001b[39m,sys\u001b[38;5;241m.\u001b[39mstdin\u001b[38;5;241m.\u001b[39mreadline()\u001b[38;5;241m.\u001b[39msplit()))\n\u001b[1;32m      5\u001b[0m m \u001b[38;5;241m=\u001b[39m \u001b[38;5;28mint\u001b[39m(sys\u001b[38;5;241m.\u001b[39mstdin\u001b[38;5;241m.\u001b[39mreadline()\u001b[38;5;241m.\u001b[39mrstrip())\n",
      "\u001b[0;31mKeyboardInterrupt\u001b[0m: "
     ]
    }
   ],
   "source": [
    "import sys\n",
    "\n",
    "n = int(sys.stdin.readline().rstrip())\n",
    "cards = list(map(int,sys.stdin.readline().split()))\n",
    "m = int(sys.stdin.readline().rstrip())\n",
    "targets = list(map(int,sys.stdin.readline().split()))\n",
    "\n",
    "dic = dict()\n",
    "\n",
    "for i in cards:\n",
    "    dic[i] = dic.get(i,0)+1\n",
    "\n",
    "for i in targets:\n",
    "    print(dic.get(i,0))"
   ]
  },
  {
   "cell_type": "code",
   "execution_count": 11,
   "metadata": {},
   "outputs": [
    {
     "data": {
      "text/plain": [
       "6"
      ]
     },
     "execution_count": 11,
     "metadata": {},
     "output_type": "execute_result"
    }
   ],
   "source": [
    "def binsearch (arr,target):\n",
    "    start = 0\n",
    "    end = len(arr)-1\n",
    "    \n",
    "    while start <= end:\n",
    "        mid = (start + end) // 2;\n",
    "        if arr[mid] == target:\n",
    "            return mid\n",
    "        elif arr[mid] > target:\n",
    "            end = mid-1\n",
    "        else:\n",
    "            start = mid+1\n",
    "    return -1\n",
    "\n",
    "n = int(input())\n",
    "cards = list(map(int,input().split()))\n",
    "m = int(input())\n",
    "targets = list(map(int,input().split()))\n",
    "count = 0\n",
    "cards.sort()\n",
    "\n",
    "for i in targets:\n",
    "    index = binsearch(cards, i)\n",
    "    if index == -1:\n",
    "        print(0)\n",
    "    else:\n",
    "        count+=1\n",
    "\n",
    "  \n",
    "\n"
   ]
  },
  {
   "cell_type": "code",
   "execution_count": 3,
   "metadata": {},
   "outputs": [
    {
     "name": "stdout",
     "output_type": "stream",
     "text": [
      "2\n",
      "1\n",
      "2\n",
      "0\n",
      "2\n",
      "1\n",
      "-1\n",
      "0\n",
      "0\n",
      "-1\n",
      "0\n",
      "3\n"
     ]
    }
   ],
   "source": [
    "# 10866\n",
    "from collections import deque\n",
    "import sys\n",
    "\n",
    "n = int(sys.stdin.readline())\n",
    "nums = deque()\n",
    "\n",
    "for i in range(n):\n",
    "  request = sys.stdin.readline().rstrip()\n",
    "  try:\n",
    "    if request[:4] == \"push\":\n",
    "      request, num = request.split()\n",
    "      if request == \"push_back\":\n",
    "        nums.append(num)\n",
    "      else:\n",
    "        nums.appendleft(num)\n",
    "    elif request == \"pop_front\":\n",
    "        print(nums.popleft())\n",
    "    elif request == \"pop_back\":\n",
    "        print(nums.pop())\n",
    "    elif request == \"size\":\n",
    "      print(len(nums))\n",
    "    elif request == \"empty\":\n",
    "      if len(nums):\n",
    "        print(0)\n",
    "      else:\n",
    "        print(1)\n",
    "    elif request == \"front\":\n",
    "      print(nums[0])\n",
    "    elif request == \"back\":\n",
    "      print(nums[-1])\n",
    "  except:\n",
    "    print(-1)"
   ]
  },
  {
   "cell_type": "code",
   "execution_count": null,
   "metadata": {},
   "outputs": [],
   "source": [
    "# 10845\n",
    "from collections import deque\n",
    "import sys\n",
    "\n",
    "n = int(sys.stdin.readline())\n",
    "nums = deque()\n",
    "\n",
    "for i in range(n):\n",
    "  request = sys.stdin.readline().split()\n",
    "  try:\n",
    "    if request[0] == \"push\":\n",
    "      nums.append(request[1])\n",
    "    elif request[0] == \"pop\":\n",
    "      print(nums.popleft())\n",
    "    elif request[0] == \"size\":\n",
    "      print(len(nums))\n",
    "    elif request[0] == \"empty\":\n",
    "      if len(nums):\n",
    "        print(0)\n",
    "      else:\n",
    "        print(1)\n",
    "    elif request[0] == \"front\":\n",
    "      print(nums[0])\n",
    "    elif request[0] == \"back\":\n",
    "      print(nums[-1])\n",
    "  except:\n",
    "    print(-1)\n",
    "\n"
   ]
  },
  {
   "cell_type": "code",
   "execution_count": 4,
   "metadata": {},
   "outputs": [
    {
     "name": "stdout",
     "output_type": "stream",
     "text": [
      "10.0\n"
     ]
    }
   ],
   "source": [
    "# 11050\n",
    "import math\n",
    "\n",
    "n, k = map(int,input().split())\n",
    "\n",
    "result = math.factorial(n)/math.factorial(n-k)/math.factorial(k)\n",
    "\n",
    "print(int(result))\n"
   ]
  },
  {
   "cell_type": "code",
   "execution_count": 5,
   "metadata": {},
   "outputs": [
    {
     "name": "stdout",
     "output_type": "stream",
     "text": [
      "10.0\n"
     ]
    }
   ],
   "source": [
    "def fact(n):\n",
    "  if n == 1:\n",
    "    return 1\n",
    "  else:\n",
    "    return n*fact(n-1)\n",
    "  \n",
    "n, k = map(int,input().split())\n",
    "\n",
    "print(int(fact(n)/fact(n-k)/fact(k)))\n",
    "\n"
   ]
  },
  {
   "cell_type": "code",
   "execution_count": 12,
   "metadata": {},
   "outputs": [
    {
     "ename": "IndentationError",
     "evalue": "unindent does not match any outer indentation level (<tokenize>, line 27)",
     "output_type": "error",
     "traceback": [
      "\u001b[0;36m  File \u001b[0;32m<tokenize>:27\u001b[0;36m\u001b[0m\n\u001b[0;31m    answer = min(answer, w_start, b_start)\u001b[0m\n\u001b[0m    ^\u001b[0m\n\u001b[0;31mIndentationError\u001b[0m\u001b[0;31m:\u001b[0m unindent does not match any outer indentation level\n"
     ]
    }
   ],
   "source": [
    "n, m = map(int,input().split())\n",
    "\n",
    "board = []\n",
    "\n",
    "for _ in range(n):\n",
    "  board.append([i for i in input()])\n",
    "\n",
    "answer= n*m\n",
    "\n",
    "for i in range(n-7):\n",
    "  for j in range(m-7):\n",
    "    w_start = 0\n",
    "    b_start = 0\n",
    "    for k in range(8):\n",
    "      for l in range(8):\n",
    "\n",
    "        if (i+k+j+l)%2 == 0:\n",
    "          if board[i+k][j+l] == \"B\":\n",
    "              w_start += 1\n",
    "          if board[i+k][j+l] == \"W\":\n",
    "              b_start += 1\n",
    "        else:\n",
    "           if board[i+k][j+l] == \"W\":\n",
    "              w_start += 1\n",
    "           if board[i+k][j+l] == \"B\":\n",
    "              b_start += 1\n",
    "    answer = min(answer, w_start, b_start)\n",
    "\n",
    "print(answer)\n"
   ]
  },
  {
   "cell_type": "code",
   "execution_count": 20,
   "metadata": {},
   "outputs": [
    {
     "name": "stdout",
     "output_type": "stream",
     "text": [
      "1 -1\n",
      "1 1\n",
      "2 2\n",
      "3 3\n",
      "3 4\n"
     ]
    }
   ],
   "source": [
    "n = int(input())\n",
    "arr = []\n",
    "for _ in range(n):\n",
    "  arr.append(tuple(map(int,input().split())))\n",
    "arr.sort()\n",
    "for i,j in arr:\n",
    "  print(i,j)\n"
   ]
  },
  {
   "cell_type": "code",
   "execution_count": 6,
   "metadata": {},
   "outputs": [
    {
     "name": "stdout",
     "output_type": "stream",
     "text": [
      "<3, 6, 2, 7, 5, 1, 4>\n"
     ]
    }
   ],
   "source": [
    "# 11866\n",
    "\n",
    "\n",
    "n, k = map(int,input().split())\n",
    "arr = [i for i in range(1,n+1)]\n",
    "result = []\n",
    "target = 0\n",
    "while arr:\n",
    "  target += k-1\n",
    "  if len(arr)-1 >= target:\n",
    "    result.append(arr.pop(target))\n",
    "  else:\n",
    "    while target > len(arr)-1:\n",
    "      target -= len(arr)\n",
    "    result.append(arr.pop(target))\n",
    "print('<' + ', '.join(map(str, result)) + '>')\n"
   ]
  },
  {
   "cell_type": "code",
   "execution_count": null,
   "metadata": {},
   "outputs": [],
   "source": []
  }
 ],
 "metadata": {
  "kernelspec": {
   "display_name": "Python 3",
   "language": "python",
   "name": "python3"
  },
  "language_info": {
   "codemirror_mode": {
    "name": "ipython",
    "version": 3
   },
   "file_extension": ".py",
   "mimetype": "text/x-python",
   "name": "python",
   "nbconvert_exporter": "python",
   "pygments_lexer": "ipython3",
   "version": "3.10.12"
  }
 },
 "nbformat": 4,
 "nbformat_minor": 2
}
