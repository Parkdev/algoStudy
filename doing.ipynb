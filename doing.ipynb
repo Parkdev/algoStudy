{
 "cells": [
  {
   "cell_type": "code",
   "execution_count": 1,
   "metadata": {},
   "outputs": [
    {
     "name": "stdout",
     "output_type": "stream",
     "text": [
      "hello world\n"
     ]
    }
   ],
   "source": [
    "print(\"hello world\")"
   ]
  },
  {
   "cell_type": "code",
   "execution_count": 5,
   "metadata": {},
   "outputs": [
    {
     "name": "stdout",
     "output_type": "stream",
     "text": [
      "2024-04-05\n"
     ]
    }
   ],
   "source": [
    "from datetime import datetime\n",
    "print(datetime.now().strftime(\"%Y-%m-%d\"))"
   ]
  },
  {
   "cell_type": "code",
   "execution_count": 6,
   "metadata": {},
   "outputs": [
    {
     "name": "stdout",
     "output_type": "stream",
     "text": [
      "\\    /\\\n",
      " )  ( ')\n",
      "(  /  )\n",
      " \\(__)|\n"
     ]
    }
   ],
   "source": [
    "print(\"\\\\    /\\\\\")\n",
    "print(\" )  ( ')\")\n",
    "print(\"(  /  )\")\n",
    "print(\" \\\\(__)|\")"
   ]
  },
  {
   "cell_type": "code",
   "execution_count": 9,
   "metadata": {},
   "outputs": [
    {
     "name": "stdout",
     "output_type": "stream",
     "text": [
      "|\\_/|\n",
      "|q p|   /}\n",
      "( 0 )\"\"\"\\\n",
      "|\"^\"`    |\n",
      "||_/=\\\\__|\n"
     ]
    }
   ],
   "source": [
    "print(\"|\\\\_/|\")\n",
    "print(\"|q p|   /}\")\n",
    "print(\"( 0 )\\\"\\\"\\\"\\\\\")\n",
    "print(\"|\\\"^\\\"`    |\")\n",
    "print(\"||_/=\\\\\\\\__|\")"
   ]
  },
  {
   "cell_type": "code",
   "execution_count": null,
   "metadata": {},
   "outputs": [
    {
     "name": "stdout",
     "output_type": "stream",
     "text": [
      "         ,r'\"7\n",
      "r`-_   ,'  ,/\n",
      " \\. \". L_r'\n",
      "   `~\\/\n",
      "      |\n",
      "      |\n"
     ]
    }
   ],
   "source": [
    "print(\"         ,r'\\\"7\")\n",
    "print(\"r`-_   ,'  ,/\")\n",
    "print(\" \\\\. \\\". L_r'\")\n",
    "print(\"   `~\\\\/\")\n",
    "print(\"      |\")\n",
    "print(\"      |\")"
   ]
  },
  {
   "cell_type": "code",
   "execution_count": 17,
   "metadata": {},
   "outputs": [
    {
     "name": "stdout",
     "output_type": "stream",
     "text": [
      "12\n"
     ]
    }
   ],
   "source": [
    "a, b = map(int,input().split())\n",
    "print(a*b)"
   ]
  },
  {
   "cell_type": "code",
   "execution_count": 18,
   "metadata": {},
   "outputs": [
    {
     "name": "stdout",
     "output_type": "stream",
     "text": [
      "7\n",
      "-1\n",
      "12\n",
      "0\n",
      "3\n"
     ]
    }
   ],
   "source": [
    "a, b = map(int,input().split())\n",
    "print(a+b)\n",
    "print(a-b)\n",
    "print(a*b)\n",
    "print(a//b)\n",
    "print(a%b)"
   ]
  },
  {
   "cell_type": "code",
   "execution_count": 19,
   "metadata": {},
   "outputs": [
    {
     "name": "stdout",
     "output_type": "stream",
     "text": [
      "15\n"
     ]
    }
   ],
   "source": [
    "from functools import reduce\n",
    "\n",
    "number = [1,2,3,4,5]\n",
    "\n",
    "print (reduce(lambda x, y: x+y, number))"
   ]
  },
  {
   "cell_type": "code",
   "execution_count": 25,
   "metadata": {},
   "outputs": [
    {
     "name": "stdout",
     "output_type": "stream",
     "text": [
      "B\n"
     ]
    }
   ],
   "source": [
    "# 시험 점수를 입력받아 90 ~ 100점은 A, 80 ~ 89점은 B, 70 ~ 79점은 C, 60 ~ 69점은 D, 나머지 점수는 F를 출력하는 프로그램을 작성하시오.\n",
    "\n",
    "score = int(input())\n",
    "\n",
    "if (score >= 90):\n",
    "    print(\"A\")\n",
    "elif (score >= 80):\n",
    "    print(\"B\")\n",
    "elif (score >= 70):\n",
    "    print(\"C\")\n",
    "elif (score >= 60):\n",
    "    print(\"D\")\n",
    "else:\n",
    "    print(\"F\")\n"
   ]
  },
  {
   "cell_type": "code",
   "execution_count": 30,
   "metadata": {},
   "outputs": [
    {
     "name": "stdout",
     "output_type": "stream",
     "text": [
      "A\n"
     ]
    }
   ],
   "source": [
    "gradedic = {10:\"A\", 9:\"A\", 8:\"B\", 7:\"C\", 6:\"D\"}\n",
    "\n",
    "grade = int(input())//10\n",
    "print(gradedic.get(grade, \"F\"))"
   ]
  },
  {
   "cell_type": "code",
   "execution_count": 32,
   "metadata": {},
   "outputs": [
    {
     "name": "stdout",
     "output_type": "stream",
     "text": [
      "3\n"
     ]
    }
   ],
   "source": [
    "a,b = map(int,input().split())\n",
    "\n",
    "print (abs(a-b))"
   ]
  },
  {
   "cell_type": "code",
   "execution_count": 2,
   "metadata": {},
   "outputs": [
    {
     "name": "stdout",
     "output_type": "stream",
     "text": [
      "1\n"
     ]
    }
   ],
   "source": [
    "year = int(input())\n",
    "\n",
    "if year % 4 == 0 and year % 100 != 0 or year % 400 == 0:\n",
    "    print(1)\n",
    "else:\n",
    "    print(0)"
   ]
  },
  {
   "cell_type": "code",
   "execution_count": null,
   "metadata": {},
   "outputs": [
    {
     "name": "stdout",
     "output_type": "stream",
     "text": [
      "1\n"
     ]
    }
   ],
   "source": [
    "n = int(input())\n",
    "\n",
    "for i in range(1,n+1):\n",
    "    print(i)"
   ]
  },
  {
   "cell_type": "code",
   "execution_count": 4,
   "metadata": {},
   "outputs": [
    {
     "name": "stdout",
     "output_type": "stream",
     "text": [
      "120\n"
     ]
    }
   ],
   "source": [
    "n = int(input())\n",
    "result = 1\n",
    "\n",
    "for i in range(2,n+1):\n",
    "    result*=i\n",
    "print(result)"
   ]
  },
  {
   "cell_type": "code",
   "execution_count": null,
   "metadata": {},
   "outputs": [],
   "source": [
    "n = int(input())\n",
    "for _ in range(n):\n",
    "    a, b = map(int, input().split())\n",
    "    print(a+b)"
   ]
  },
  {
   "cell_type": "code",
   "execution_count": null,
   "metadata": {},
   "outputs": [],
   "source": [
    "#10952\n",
    "\n",
    "while True:\n",
    "    a, b = map(int, input().split())\n",
    "    if a == 0 and b == 0:\n",
    "        break\n",
    "    print(a+b)"
   ]
  },
  {
   "cell_type": "code",
   "execution_count": 5,
   "metadata": {},
   "outputs": [
    {
     "name": "stdout",
     "output_type": "stream",
     "text": [
      "2  *  1  =  2\n",
      "2  *  2  =  4\n",
      "2  *  3  =  6\n",
      "2  *  4  =  8\n",
      "2  *  5  =  10\n",
      "2  *  6  =  12\n",
      "2  *  7  =  14\n",
      "2  *  8  =  16\n",
      "2  *  9  =  18\n"
     ]
    }
   ],
   "source": [
    "# 2739\n",
    "n = int(input())\n",
    "for i in range(1,10):\n",
    "    print(n, \"*\", i, \"=\", n*i)"
   ]
  },
  {
   "cell_type": "code",
   "execution_count": 1,
   "metadata": {},
   "outputs": [
    {
     "name": "stdout",
     "output_type": "stream",
     "text": [
      "*\n",
      "**\n",
      "***\n",
      "****\n",
      "*****\n"
     ]
    }
   ],
   "source": [
    "#2438\n",
    "\n",
    "n = int(input())\n",
    "\n",
    "for i in range(1,n+1):\n",
    "    print(\"*\"*i)"
   ]
  },
  {
   "cell_type": "code",
   "execution_count": null,
   "metadata": {},
   "outputs": [],
   "source": [
    "#10951\n",
    "\n",
    "while True:\n",
    "    try:\n",
    "        a, b = map (int, input().split())\n",
    "        print(a+b)\n",
    "    except:\n",
    "        break\n",
    "\n",
    "### 일반적인 실행환경에서는 무한으로 지속되지만, 백준을 기준으로 파일의 끝이 존재하여 자동으로 멈추게된다. 그러면 굳이 try except를 안써도되는거아닌가?"
   ]
  },
  {
   "cell_type": "code",
   "execution_count": 2,
   "metadata": {},
   "outputs": [
    {
     "ename": "KeyboardInterrupt",
     "evalue": "",
     "output_type": "error",
     "traceback": [
      "\u001b[0;31m---------------------------------------------------------------------------\u001b[0m",
      "\u001b[0;31mKeyboardInterrupt\u001b[0m                         Traceback (most recent call last)",
      "Cell \u001b[0;32mIn[2], line 5\u001b[0m\n\u001b[1;32m      1\u001b[0m \u001b[38;5;66;03m#15552\u001b[39;00m\n\u001b[1;32m      2\u001b[0m \u001b[38;5;66;03m# input을 받는 방법은 여러개가 있고, 특히 일반적으로 사용하는 방법보다 더 빠르게 입력을 받는 방법이 있다.\u001b[39;00m\n\u001b[1;32m      3\u001b[0m \u001b[38;5;66;03m# input()의 경우 문자변환 및 개행 제거 과정, 그리고 프롬프트 메세지 입력을 받는 특징으로 인해 상대적으로 sys.stdin.readline[.rstrip()]보다 느리다.\u001b[39;00m\n\u001b[1;32m      4\u001b[0m \u001b[38;5;28;01mimport\u001b[39;00m \u001b[38;5;21;01msys\u001b[39;00m\n\u001b[0;32m----> 5\u001b[0m n \u001b[38;5;241m=\u001b[39m \u001b[43msys\u001b[49m\u001b[38;5;241;43m.\u001b[39;49m\u001b[43mstdin\u001b[49m\u001b[38;5;241;43m.\u001b[39;49m\u001b[43mreadline\u001b[49m\u001b[43m(\u001b[49m\u001b[43m)\u001b[49m\u001b[38;5;241m.\u001b[39mrstrip()\n\u001b[1;32m      6\u001b[0m \u001b[38;5;28;01mfor\u001b[39;00m i \u001b[38;5;129;01min\u001b[39;00m \u001b[38;5;28mrange\u001b[39m(n):\n\u001b[1;32m      7\u001b[0m     a,b \u001b[38;5;241m=\u001b[39m sys\u001b[38;5;241m.\u001b[39mstdin\u001b[38;5;241m.\u001b[39mreadline()\u001b[38;5;241m.\u001b[39mrstrip()\u001b[38;5;241m.\u001b[39msplit()\n",
      "\u001b[0;31mKeyboardInterrupt\u001b[0m: "
     ]
    }
   ],
   "source": [
    "#15552\n",
    "# input을 받는 방법은 여러개가 있고, 특히 일반적으로 사용하는 방법보다 더 빠르게 입력을 받는 방법이 있다.\n",
    "# input()의 경우 문자변환 및 개행 제거 과정, 그리고 프롬프트 메세지 입력을 받는 특징으로 인해 상대적으로 sys.stdin.readline[.rstrip()]보다 느리다.\n",
    "import sys\n",
    "n = int(sys.stdin.readline().rstrip())\n",
    "for i in range(n):\n",
    "    a,b = map(int,sys.stdin.readline().rstrip().split())\n",
    "    print(a+b)"
   ]
  },
  {
   "cell_type": "code",
   "execution_count": 12,
   "metadata": {},
   "outputs": [
    {
     "name": "stdout",
     "output_type": "stream",
     "text": [
      "5 [1, 2, 3, 4, 5]\n",
      "1 2 3 4 "
     ]
    }
   ],
   "source": [
    "# 10871\n",
    "_,x = map(int,input().split())\n",
    "n = list(map(int,input().split()))\n",
    "for i in n:\n",
    "    if i < x:\n",
    "        print(i, end=' ')\n",
    "    "
   ]
  },
  {
   "cell_type": "code",
   "execution_count": null,
   "metadata": {},
   "outputs": [],
   "source": [
    "#10807\n",
    "\n",
    "n = input()\n",
    "lt = list(map(int,input().split()))\n",
    "target = int(input())\n",
    "count = 0\n",
    "\n",
    "for i in lt:\n",
    "    if i == target:\n",
    "        count+=1\n",
    "print(count)"
   ]
  },
  {
   "cell_type": "code",
   "execution_count": 16,
   "metadata": {},
   "outputs": [
    {
     "name": "stdout",
     "output_type": "stream",
     "text": [
      "3\n",
      "4\n",
      "5\n",
      "6\n",
      "7\n",
      "8\n",
      "9\n",
      "10\n",
      "11\n",
      "12\n",
      "13\n",
      "14\n",
      "15\n",
      "16\n",
      "17\n",
      "18\n",
      "19\n",
      "20\n",
      "21\n",
      "22\n",
      "23\n",
      "24\n",
      "25\n",
      "26\n",
      "27\n",
      "28\n",
      "29\n",
      "30\n"
     ]
    }
   ],
   "source": [
    "# 5597\n",
    "clist = [i for i in range(1,31)]\n",
    "for _ in range(28):\n",
    "    n = int(input())\n",
    "    clist.remove(n)\n",
    "clist.sort()\n",
    "for i in clist:\n",
    "    print(i)"
   ]
  },
  {
   "cell_type": "code",
   "execution_count": 17,
   "metadata": {},
   "outputs": [
    {
     "name": "stdout",
     "output_type": "stream",
     "text": [
      "4 4 4 \n",
      "6 6 6 \n",
      "5 6 100 \n"
     ]
    }
   ],
   "source": [
    "row, col = map(int, input().split())\n",
    "a = []\n",
    "b = []\n",
    "for _ in range(row):\n",
    "    a.append(list(map(int,input().split())))\n",
    "for _ in range(row):\n",
    "    b.append(list(map(int,input().split())))\n",
    "\n",
    "for i in range(row):\n",
    "    for j in range(col):\n",
    "        result = a[i][j] + b[i][j]\n",
    "        print(result, end=' ')\n",
    "    print()\n"
   ]
  },
  {
   "cell_type": "code",
   "execution_count": 6,
   "metadata": {},
   "outputs": [
    {
     "name": "stdout",
     "output_type": "stream",
     "text": [
      "65\n",
      "97\n"
     ]
    }
   ],
   "source": [
    "# 11654\n",
    "print(ord(\"A\"))\n",
    "print(ord(\"a\"))"
   ]
  },
  {
   "cell_type": "code",
   "execution_count": 5,
   "metadata": {},
   "outputs": [
    {
     "data": {
      "text/plain": [
       "8"
      ]
     },
     "execution_count": 5,
     "metadata": {},
     "output_type": "execute_result"
    }
   ],
   "source": [
    "#2743\n",
    "print(len(input()))"
   ]
  },
  {
   "cell_type": "code",
   "execution_count": null,
   "metadata": {},
   "outputs": [],
   "source": []
  },
  {
   "cell_type": "code",
   "execution_count": 17,
   "metadata": {},
   "outputs": [
    {
     "name": "stdout",
     "output_type": "stream",
     "text": [
      "97\n",
      "115\n",
      "100\n",
      "102\n",
      "start: ASDF\n"
     ]
    }
   ],
   "source": [
    "#2744 upper lower swapcase capitalize\n",
    "word = input()\n",
    "result = \"\"\n",
    "for i in word:\n",
    "    if ord(i) < 97:\n",
    "        result += chr(ord(i)+32)\n",
    "    else:\n",
    "        result += chr(ord(i)-32)\n",
    "\n",
    "print(result)\n",
    "\n"
   ]
  },
  {
   "cell_type": "code",
   "execution_count": 28,
   "metadata": {},
   "outputs": [
    {
     "name": "stdout",
     "output_type": "stream",
     "text": [
      "A0\n",
      "4.3\n"
     ]
    }
   ],
   "source": [
    "score_dic = {\n",
    "    \"A+\":4.3,\n",
    "    \"A0\":4.0,\n",
    "    \"A-\":3.7,\n",
    "    \"B+\":3.3,\n",
    "    \"B0\":3.0,\n",
    "    \"B-\":2.7,\n",
    "    \"C+\":2.3,\n",
    "    \"C0\":2.0,\n",
    "    \"C-\":1.7,\n",
    "    \"D+\":1.3,\n",
    "    \"D0\":1.0,\n",
    "    \"D-\":0.7\n",
    "             }\n",
    "print (score_dic.get(input(), '0.0'))\n"
   ]
  },
  {
   "cell_type": "code",
   "execution_count": 29,
   "metadata": {},
   "outputs": [
    {
     "name": "stdout",
     "output_type": "stream",
     "text": [
      "r\n"
     ]
    }
   ],
   "source": [
    "#27866\n",
    "\n",
    "word = input()\n",
    "n = int(input())\n",
    "\n",
    "print(word[n-1])"
   ]
  },
  {
   "cell_type": "code",
   "execution_count": null,
   "metadata": {},
   "outputs": [],
   "source": [
    "#11718\n",
    "\n",
    "while True:\n",
    "    try:\n",
    "        print(input())\n",
    "    except:\n",
    "        break"
   ]
  },
  {
   "cell_type": "code",
   "execution_count": 32,
   "metadata": {},
   "outputs": [
    {
     "name": "stdout",
     "output_type": "stream",
     "text": [
      "qh\n",
      "a'\n"
     ]
    }
   ],
   "source": [
    "# 9086\n",
    "\n",
    "n = int(input())\n",
    "for i in range(n):\n",
    "    word = input()\n",
    "    print(word[0]+word[-1])"
   ]
  },
  {
   "cell_type": "code",
   "execution_count": 33,
   "metadata": {},
   "outputs": [
    {
     "name": "stdout",
     "output_type": "stream",
     "text": [
      "7\n"
     ]
    }
   ],
   "source": [
    "#15964\n",
    "def AaB (a, b):\n",
    "    return print((a+b)*(a-b))\n",
    "\n",
    "a,b  = map(int,input().split())\n",
    "AaB(a,b)"
   ]
  },
  {
   "cell_type": "code",
   "execution_count": 34,
   "metadata": {},
   "outputs": [
    {
     "name": "stdout",
     "output_type": "stream",
     "text": [
      "1\n"
     ]
    }
   ],
   "source": [
    "#2475\n",
    "\n",
    "def verification_code (list):\n",
    "    code = 0\n",
    "    for i in list:\n",
    "        code += i**2\n",
    "    return print(code%10)\n",
    "\n",
    "input_num = list(map(int,input().split()))\n",
    "verification_code(input_num)"
   ]
  },
  {
   "cell_type": "code",
   "execution_count": 4,
   "metadata": {},
   "outputs": [
    {
     "name": "stdout",
     "output_type": "stream",
     "text": [
      "9\n",
      "9\n"
     ]
    }
   ],
   "source": [
    "#2562\n",
    "mm_list = []\n",
    "for _ in range (9):\n",
    "    mm_list.append(int(input()))\n",
    "print(max(mm_list))\n",
    "print(mm_list.index(max(mm_list))+1)\n",
    "\n"
   ]
  },
  {
   "cell_type": "code",
   "execution_count": 10,
   "metadata": {},
   "outputs": [
    {
     "ename": "ValueError",
     "evalue": "invalid literal for int() with base 10: ''",
     "output_type": "error",
     "traceback": [
      "\u001b[0;31m---------------------------------------------------------------------------\u001b[0m",
      "\u001b[0;31mValueError\u001b[0m                                Traceback (most recent call last)",
      "Cell \u001b[0;32mIn[10], line 3\u001b[0m\n\u001b[1;32m      1\u001b[0m \u001b[38;5;66;03m#2675\u001b[39;00m\n\u001b[0;32m----> 3\u001b[0m cases \u001b[38;5;241m=\u001b[39m \u001b[38;5;28;43mint\u001b[39;49m\u001b[43m(\u001b[49m\u001b[38;5;28;43minput\u001b[39;49m\u001b[43m(\u001b[49m\u001b[43m)\u001b[49m\u001b[43m)\u001b[49m\n\u001b[1;32m      4\u001b[0m \u001b[38;5;28;01mfor\u001b[39;00m case \u001b[38;5;129;01min\u001b[39;00m \u001b[38;5;28mrange\u001b[39m(cases):\n\u001b[1;32m      5\u001b[0m     n, string \u001b[38;5;241m=\u001b[39m \u001b[38;5;28minput\u001b[39m()\u001b[38;5;241m.\u001b[39msplit()\n",
      "\u001b[0;31mValueError\u001b[0m: invalid literal for int() with base 10: ''"
     ]
    }
   ],
   "source": [
    "#2675\n",
    "\n",
    "cases = int(input())\n",
    "for case in range(cases):\n",
    "    n, string = input().split()\n",
    "    for j in string:\n",
    "        print(j*int(n), end='')\n",
    "    print()\n"
   ]
  },
  {
   "cell_type": "code",
   "execution_count": 11,
   "metadata": {},
   "outputs": [
    {
     "name": "stdout",
     "output_type": "stream",
     "text": [
      "15\n"
     ]
    }
   ],
   "source": [
    "#11720\n",
    "count = int(input())\n",
    "num = input()\n",
    "result = 0\n",
    "for i in num:\n",
    "    result += int(i)\n",
    "print(result)"
   ]
  },
  {
   "cell_type": "code",
   "execution_count": 13,
   "metadata": {},
   "outputs": [
    {
     "name": "stdout",
     "output_type": "stream",
     "text": [
      "5\n"
     ]
    }
   ],
   "source": [
    "#1152\n",
    "print(len(input().split()))"
   ]
  },
  {
   "cell_type": "code",
   "execution_count": 23,
   "metadata": {},
   "outputs": [
    {
     "name": "stdout",
     "output_type": "stream",
     "text": [
      "?\n"
     ]
    }
   ],
   "source": [
    "#1157\n",
    "word = input().upper()\n",
    "word_dic = {}\n",
    "for i in word:\n",
    "    word_dic[i] = word_dic.get(i, 0)+1\n",
    "result = [k for k ,v in word_dic.items() if max(word_dic.values())==v ]\n",
    "if len(result) > 1:\n",
    "    print(\"?\")\n",
    "else :\n",
    "    print(result.pop())"
   ]
  },
  {
   "cell_type": "code",
   "execution_count": 38,
   "metadata": {},
   "outputs": [
    {
     "name": "stdout",
     "output_type": "stream",
     "text": [
      "    *\n",
      "   **\n",
      "  ***\n",
      " ****\n",
      "*****\n"
     ]
    }
   ],
   "source": [
    "#2439\n",
    "\n",
    "n = int(input())\n",
    "for i in range(1,n+1):\n",
    "    print(\" \"*(n-i), end='')\n",
    "    print(\"*\"*i)"
   ]
  },
  {
   "cell_type": "code",
   "execution_count": 39,
   "metadata": {},
   "outputs": [
    {
     "name": "stdout",
     "output_type": "stream",
     "text": [
      "3\n",
      "1\n",
      "0\n",
      "2\n",
      "0\n",
      "0\n",
      "0\n",
      "2\n",
      "0\n",
      "0\n"
     ]
    }
   ],
   "source": [
    "number = 1\n",
    "count = [0]*10\n",
    "for _ in range(3):\n",
    "    number *= int(input())\n",
    "for i in str(number):\n",
    "    count[int(i)]+= 1\n",
    "\n",
    "for j in count:\n",
    "    print(j)"
   ]
  },
  {
   "cell_type": "code",
   "execution_count": 5,
   "metadata": {},
   "outputs": [
    {
     "ename": "TypeError",
     "evalue": "alerm() missing 1 required positional argument: 'minute'",
     "output_type": "error",
     "traceback": [
      "\u001b[0;31m---------------------------------------------------------------------------\u001b[0m",
      "\u001b[0;31mTypeError\u001b[0m                                 Traceback (most recent call last)",
      "Cell \u001b[0;32mIn[5], line 11\u001b[0m\n\u001b[1;32m      7\u001b[0m         result \u001b[38;5;241m+\u001b[39m\u001b[38;5;241m=\u001b[39m \u001b[38;5;241m24\u001b[39m \u001b[38;5;241m*\u001b[39m \u001b[38;5;241m60\u001b[39m\n\u001b[1;32m      9\u001b[0m     \u001b[38;5;28;01mreturn\u001b[39;00m \u001b[38;5;28mprint\u001b[39m ( result \u001b[38;5;241m/\u001b[39m\u001b[38;5;241m/\u001b[39m \u001b[38;5;241m60\u001b[39m, result \u001b[38;5;241m%\u001b[39m \u001b[38;5;241m60\u001b[39m)\n\u001b[0;32m---> 11\u001b[0m \u001b[43malerm\u001b[49m\u001b[43m(\u001b[49m\u001b[38;5;28;43mmap\u001b[39;49m\u001b[43m(\u001b[49m\u001b[38;5;28;43mint\u001b[39;49m\u001b[43m,\u001b[49m\u001b[43m \u001b[49m\u001b[38;5;28;43minput\u001b[39;49m\u001b[43m(\u001b[49m\u001b[43m)\u001b[49m\u001b[38;5;241;43m.\u001b[39;49m\u001b[43msplit\u001b[49m\u001b[43m(\u001b[49m\u001b[43m)\u001b[49m\u001b[43m)\u001b[49m\u001b[43m)\u001b[49m\n",
      "\u001b[0;31mTypeError\u001b[0m: alerm() missing 1 required positional argument: 'minute'"
     ]
    }
   ],
   "source": [
    "# 2884\n",
    "\n",
    "def alerm (hour, minute):\n",
    "    result = hour * 60 + minute - 45\n",
    "\n",
    "    if result < 0 :\n",
    "        result += 24 * 60\n",
    "\n",
    "    return print ( result // 60, result % 60)\n",
    "h, m = map(int, input().split())\n",
    "alerm(h, m)\n",
    "\n"
   ]
  },
  {
   "cell_type": "code",
   "execution_count": 9,
   "metadata": {},
   "outputs": [
    {
     "name": "stdout",
     "output_type": "stream",
     "text": [
      "mixed\n"
     ]
    }
   ],
   "source": [
    "#2920\n",
    "\n",
    "nums = list(map(int,input().split()))\n",
    "result = ''\n",
    "for i, n in enumerate(nums):\n",
    "        if i+1 == n:\n",
    "            if result != 'descending':\n",
    "                result = 'ascending'   \n",
    "            else:\n",
    "                 result = 'mixed'\n",
    "                 break\n",
    "        elif 8-i == n:\n",
    "            if result != 'ascending':\n",
    "                result = 'descending'   \n",
    "            else:\n",
    "                 result = 'mixed'\n",
    "                 break\n",
    "        else:\n",
    "            result = 'mixed'\n",
    "            break\n",
    "print(result)"
   ]
  },
  {
   "cell_type": "code",
   "execution_count": 12,
   "metadata": {},
   "outputs": [
    {
     "name": "stdout",
     "output_type": "stream",
     "text": [
      "5\n"
     ]
    }
   ],
   "source": [
    "#3052\n",
    "remainder_set= set()\n",
    "for i in range(10):\n",
    "    n = int(input())\n",
    "    remainder_set.add(n%42)\n",
    "print(len(remainder_set))"
   ]
  },
  {
   "cell_type": "code",
   "execution_count": 14,
   "metadata": {},
   "outputs": [
    {
     "name": "stdout",
     "output_type": "stream",
     "text": [
      "10\n"
     ]
    }
   ],
   "source": [
    " #8958\n",
    "\n",
    "def calculator (inputs):\n",
    "    addi = 1\n",
    "    result = 0\n",
    "    for i in inputs:\n",
    "        if i == 'O':\n",
    "            result += addi\n",
    "            addi += 1\n",
    "        if i == 'X':\n",
    "            addi = 1\n",
    "    return print(result)\n",
    "\n",
    "n = int(input())\n",
    "for i in range(n):\n",
    "    calculator(input())\n"
   ]
  },
  {
   "cell_type": "code",
   "execution_count": 11,
   "metadata": {},
   "outputs": [
    {
     "name": "stdout",
     "output_type": "stream",
     "text": [
      "509\n"
     ]
    }
   ],
   "source": [
    "#10250\n",
    "\n",
    "def room_num(floors, rooms, cus_num):\n",
    "    if cus_num % floors == 0:\n",
    "        xx = cus_num // floors\n",
    "        yy = floors \n",
    "    else:\n",
    "        xx = cus_num // floors + 1\n",
    "        yy = cus_num % floors\n",
    "\n",
    "\n",
    "    return print('{0}{1:02d}'.format(yy,xx))\n",
    "\n",
    "n = int(input())\n",
    "for i in range(n):\n",
    "    H, W, N = map(int,input().split())\n",
    "    room_num(H, W, N)\n",
    "\n",
    "# 5 9 41\n",
    "    "
   ]
  },
  {
   "cell_type": "code",
   "execution_count": 3,
   "metadata": {},
   "outputs": [
    {
     "name": "stdout",
     "output_type": "stream",
     "text": [
      "1 0 -1 -1 2 -1 -1 -1 -1 4 3 -1 -1 7 5 -1 -1 -1 -1 -1 -1 -1 -1 -1 -1 -1 "
     ]
    }
   ],
   "source": [
    "# 10809\n",
    "\n",
    "s = input()\n",
    "result = [-1]*26\n",
    "for i, alp in enumerate(s):\n",
    "    n = ord(alp)-97\n",
    "    if result[n] == -1:\n",
    "        result[n] = i\n",
    "for i in result:\n",
    "    print(i, end=' ')\n",
    "\n"
   ]
  },
  {
   "cell_type": "code",
   "execution_count": 2,
   "metadata": {},
   "outputs": [
    {
     "data": {
      "text/plain": [
       "97"
      ]
     },
     "execution_count": 2,
     "metadata": {},
     "output_type": "execute_result"
    }
   ],
   "source": [
    "ord(\"a\")"
   ]
  },
  {
   "cell_type": "code",
   "execution_count": 17,
   "metadata": {},
   "outputs": [
    {
     "name": "stdout",
     "output_type": "stream",
     "text": [
      " 10 13\n",
      " BBBBBBBBWBWBW\n",
      " BBBBBBBBBWBWB\n",
      " BBBBBBBBWBWBW\n",
      " BBBBBBBBBWBWB\n",
      " BBBBBBBBWBWBW\n",
      " BBBBBBBBBWBWB\n",
      " BBBBBBBBWBWBW\n",
      " BBBBBBBBBWBWB\n",
      " WWWWWWWWWWBWB\n",
      " WWWWWWWWWWBWB\n"
     ]
    },
    {
     "name": "stdout",
     "output_type": "stream",
     "text": [
      "45\n"
     ]
    }
   ],
   "source": [
    "#1018\n",
    "\n",
    "x, y = map(int, input().split())\n",
    "field = []\n",
    "count = [0]*2\n",
    "\n",
    "for _ in range(x):\n",
    "    field.append(list(input()))\n",
    "\n",
    "#'W'\n",
    "for i in range(x-8)\n",
    "    for j in range(i,i+8):\n",
    "        for k in range(y-8):\n",
    "        for l in range(k, k+9):\n",
    "            if (i+j) % 2 == 0:\n",
    "                if field[i][j] == 'B':\n",
    "                    count[1] += 1\n",
    "            else:\n",
    "                if field[i][j] == 'W':\n",
    "                    count[0] += 1\n",
    "\n",
    "# 'B'\n",
    "for i in range(x):\n",
    "    for j in range(y):\n",
    "        if (i+j) % 2 == 0:\n",
    "            if field[i][j] == 'W':\n",
    "                count[1]+=1\n",
    "        else:\n",
    "            if field[i][j] == 'B':\n",
    "                count[1]+=1\n",
    "\n",
    "print(min(count))"
   ]
  },
  {
   "cell_type": "code",
   "execution_count": 3,
   "metadata": {},
   "outputs": [
    {
     "name": "stdout",
     "output_type": "stream",
     "text": [
      "[32, 32]\n",
      "[28, 36]\n",
      "[24, 40]\n",
      "[20, 44]\n",
      "[16, 48]\n",
      "[12, 52]\n",
      "[32, 32]\n",
      "[29, 35]\n",
      "[25, 39]\n",
      "[23, 41]\n",
      "[19, 45]\n",
      "[17, 47]\n",
      "[32, 32]\n",
      "[29, 35]\n",
      "[26, 38]\n",
      "[23, 41]\n",
      "[20, 44]\n",
      "[17, 47]\n",
      "12\n"
     ]
    }
   ],
   "source": [
    "#1018\n",
    "\n",
    "# x, y = map(int, input().split())\n",
    "x, y = [10, 13]\n",
    "# field = []\n",
    "field = [\n",
    "    list('BBBBBBBBWBWBW'),\n",
    "    list('BBBBBBBBBWBWB'),\n",
    "    list('BBBBBBBBWBWBW'),\n",
    "    list('BBBBBBBBBWBWB'),\n",
    "    list('BBBBBBBBWBWBW'),\n",
    "    list('BBBBBBBBBWBWB'),\n",
    "    list('BBBBBBBBWBWBW'),\n",
    "    list('BBBBBBBBBWBWB'),\n",
    "    list('WWWWWWWWWWBWB'),\n",
    "    list('WWWWWWWWWWBWB'),\n",
    "]\n",
    "results = []\n",
    "\n",
    "# for _ in range(x):\n",
    "#     field.append(list(input()))\n",
    "\n",
    "#'W'\n",
    "for k in range(x-7):\n",
    "    for l in range(y-7):\n",
    "        count = [0,0]\n",
    "        for i in range(k,k+8):\n",
    "            for j in range(l, l+8):\n",
    "                if (i+j) % 2 == 0:\n",
    "                    if field[i][j] == 'B':\n",
    "                        count[0] += 1\n",
    "                    if field[i][j] == 'W':\n",
    "                        count[1] += 1\n",
    "                else:\n",
    "                    if field[i][j] == 'W':\n",
    "                        count[0] += 1\n",
    "                    if field[i][j] == 'B':\n",
    "                        count[1] += 1\n",
    "        results.extend(count)\n",
    "print(min(results))\n",
    "\n",
    "# # 'B'\n",
    "# for i in range(x):\n",
    "#     for j in range(y):\n",
    "#         if (i+j) % 2 == 0:\n",
    "#             if field[i][j] == 'W':\n",
    "#                 count[1]+=1\n",
    "#         else:\n",
    "#             if field[i][j] == 'B':\n",
    "#                 count[1]+=1\n",
    "\n",
    "# print(count[0])"
   ]
  },
  {
   "cell_type": "code",
   "execution_count": 3,
   "metadata": {},
   "outputs": [
    {
     "name": "stdout",
     "output_type": "stream",
     "text": [
      "[32, 32]\n",
      "[28, 36]\n",
      "[24, 40]\n",
      "[20, 44]\n",
      "[16, 48]\n",
      "[12, 52]\n",
      "[32, 32]\n",
      "[29, 35]\n",
      "[25, 39]\n",
      "[23, 41]\n",
      "[19, 45]\n",
      "[17, 47]\n",
      "[32, 32]\n",
      "[29, 35]\n",
      "[26, 38]\n",
      "[23, 41]\n",
      "[20, 44]\n",
      "[17, 47]\n",
      "12\n"
     ]
    }
   ],
   "source": [
    "#1018\n",
    "\n",
    "x, y = map(int, input().split())\n",
    "field = []\n",
    "results = []\n",
    "\n",
    "for _ in range(x):\n",
    "    field.append(list(input()))\n",
    "\n",
    "#'W'\n",
    "for k in range(x-7):\n",
    "    for l in range(y-7):\n",
    "        count = [0,0]\n",
    "        for i in range(k,k+8):\n",
    "            for j in range(l, l+8):\n",
    "                if (i+j) % 2 == 0:\n",
    "                    if field[i][j] == 'B':\n",
    "                        count[0] += 1\n",
    "                    if field[i][j] == 'W':\n",
    "                        count[1] += 1\n",
    "                else:\n",
    "                    if field[i][j] == 'W':\n",
    "                        count[0] += 1\n",
    "                    if field[i][j] == 'B':\n",
    "                        count[1] += 1\n",
    "        results.extend(count)\n",
    "print(min(results))"
   ]
  },
  {
   "cell_type": "code",
   "execution_count": 19,
   "metadata": {},
   "outputs": [
    {
     "name": "stdout",
     "output_type": "stream",
     "text": [
      "[1, 2, 3, 4, 5, 6]\n"
     ]
    }
   ],
   "source": [
    "list1 = [1, 2, 3]\n",
    "list2 = [4, 5, 6]\n",
    "list1.extend(list2)\n",
    "print(list1)  "
   ]
  },
  {
   "cell_type": "code",
   "execution_count": 4,
   "metadata": {},
   "outputs": [
    {
     "name": "stdout",
     "output_type": "stream",
     "text": [
      " 5 21\n",
      " 5 6 7 8 9\n"
     ]
    },
    {
     "name": "stdout",
     "output_type": "stream",
     "text": [
      "21\n"
     ]
    }
   ],
   "source": [
    "#2798\n",
    "\n",
    "n, target = map(int, input().split())\n",
    "deck = list(map(int, input().split()))\n",
    "sum = set()\n",
    "for i in range(n):\n",
    "    for j in range(i+1, n):\n",
    "        for k in range(j+1, n):\n",
    "            result = deck[i] + deck[j] + deck[k]\n",
    "            if result > target:\n",
    "                continue\n",
    "            else:\n",
    "                sum.add(result)\n",
    "print(max(sum))"
   ]
  },
  {
   "cell_type": "code",
   "execution_count": 12,
   "metadata": {},
   "outputs": [
    {
     "name": "stdout",
     "output_type": "stream",
     "text": [
      " 1000000\n"
     ]
    },
    {
     "name": "stdout",
     "output_type": "stream",
     "text": [
      "0\n"
     ]
    }
   ],
   "source": [
    "# 2231\n",
    "target = int(input())\n",
    "h = int(str(target)[0])\n",
    "answer_list = list()\n",
    "for i in range(h+1):\n",
    "    for j in range(10):\n",
    "        for k in range(10):\n",
    "            constructor = int(str(i)+str(j)+str(k))\n",
    "            result = constructor + i + j + k\n",
    "            if result == target:\n",
    "                answer_list.append(constructor)\n",
    "if len(answer_list) == 0 :\n",
    "    print('0')\n",
    "else:\n",
    "    print(min(answer_list))"
   ]
  },
  {
   "cell_type": "code",
   "execution_count": 9,
   "metadata": {},
   "outputs": [
    {
     "name": "stdout",
     "output_type": "stream",
     "text": [
      " 216\n"
     ]
    },
    {
     "name": "stdout",
     "output_type": "stream",
     "text": [
      "198\n"
     ]
    }
   ],
   "source": [
    "target = int(input())\n",
    "result = []\n",
    "for constructor in range(1, target):\n",
    "    divde_sum = sum([int(i) for i in str(constructor)])\n",
    "    if target == constructor + divde_sum:\n",
    "        result.append(constructor)\n",
    "if len(result) == 0 :\n",
    "    print('0')\n",
    "else:\n",
    "    print(min(result))"
   ]
  },
  {
   "cell_type": "code",
   "execution_count": 10,
   "metadata": {},
   "outputs": [
    {
     "name": "stdout",
     "output_type": "stream",
     "text": [
      " 21\n"
     ]
    },
    {
     "name": "stdout",
     "output_type": "stream",
     "text": [
      "15\n"
     ]
    }
   ],
   "source": [
    "target = int(input())\n",
    "result = next((constructor for constructor in range(1, target) if target == constructor + sum(int(i) for i in str(constructor))), 0)\n",
    "print(result)\n",
    "\n"
   ]
  },
  {
   "cell_type": "code",
   "execution_count": 10,
   "metadata": {},
   "outputs": [
    {
     "ename": "TypeError",
     "evalue": "object of type 'int' has no len()",
     "output_type": "error",
     "traceback": [
      "\u001b[0;31m---------------------------------------------------------------------------\u001b[0m",
      "\u001b[0;31mTypeError\u001b[0m                                 Traceback (most recent call last)",
      "Cell \u001b[0;32mIn[10], line 7\u001b[0m\n\u001b[1;32m      5\u001b[0m \u001b[38;5;28;01mif\u001b[39;00m n \u001b[38;5;241m==\u001b[39m \u001b[38;5;124m'\u001b[39m\u001b[38;5;124m0\u001b[39m\u001b[38;5;124m'\u001b[39m:\n\u001b[1;32m      6\u001b[0m     \u001b[38;5;28;01mbreak\u001b[39;00m\n\u001b[0;32m----> 7\u001b[0m \u001b[38;5;28;01mfor\u001b[39;00m i \u001b[38;5;129;01min\u001b[39;00m \u001b[38;5;28mrange\u001b[39m(\u001b[38;5;28;43mlen\u001b[39;49m\u001b[43m(\u001b[49m\u001b[38;5;28;43mint\u001b[39;49m\u001b[43m(\u001b[49m\u001b[43mn\u001b[49m\u001b[43m)\u001b[49m\u001b[38;5;241;43m/\u001b[39;49m\u001b[38;5;241;43m/\u001b[39;49m\u001b[38;5;241;43m2\u001b[39;49m\u001b[38;5;241;43m+\u001b[39;49m\u001b[38;5;241;43m1\u001b[39;49m\u001b[43m)\u001b[49m):\n\u001b[1;32m      8\u001b[0m     \u001b[38;5;28;01mif\u001b[39;00m n[i] \u001b[38;5;241m==\u001b[39m n[\u001b[38;5;241m-\u001b[39m\u001b[38;5;241m1\u001b[39m\u001b[38;5;241m-\u001b[39mi]:\n\u001b[1;32m      9\u001b[0m         result \u001b[38;5;241m=\u001b[39m \u001b[38;5;124m\"\u001b[39m\u001b[38;5;124myes\u001b[39m\u001b[38;5;124m\"\u001b[39m\n",
      "\u001b[0;31mTypeError\u001b[0m: object of type 'int' has no len()"
     ]
    }
   ],
   "source": [
    "#1259\n",
    "\n",
    "while True:\n",
    "    n = input()\n",
    "    result = \"yes\"\n",
    "    if n == '0':\n",
    "        break\n",
    "    for i in range(len(n)//2+1):\n",
    "        if n[i] == n[-1-i]:\n",
    "            continue\n",
    "        else:\n",
    "            result = \"no\"\n",
    "            break\n",
    "    print(result)"
   ]
  },
  {
   "cell_type": "code",
   "execution_count": 4,
   "metadata": {},
   "outputs": [
    {
     "ename": "KeyboardInterrupt",
     "evalue": "",
     "output_type": "error",
     "traceback": [
      "\u001b[0;31m---------------------------------------------------------------------------\u001b[0m",
      "\u001b[0;31mKeyboardInterrupt\u001b[0m                         Traceback (most recent call last)",
      "Cell \u001b[0;32mIn[4], line 4\u001b[0m\n\u001b[1;32m      1\u001b[0m \u001b[38;5;66;03m# 1181\u001b[39;00m\n\u001b[1;32m      2\u001b[0m \u001b[38;5;28;01mimport\u001b[39;00m \u001b[38;5;21;01msys\u001b[39;00m\n\u001b[0;32m----> 4\u001b[0m n \u001b[38;5;241m=\u001b[39m \u001b[38;5;28mint\u001b[39m(\u001b[43msys\u001b[49m\u001b[38;5;241;43m.\u001b[39;49m\u001b[43mstdin\u001b[49m\u001b[38;5;241;43m.\u001b[39;49m\u001b[43mreadline\u001b[49m\u001b[43m(\u001b[49m\u001b[43m)\u001b[49m)\n\u001b[1;32m      5\u001b[0m words \u001b[38;5;241m=\u001b[39m \u001b[38;5;28mset\u001b[39m()\n\u001b[1;32m      6\u001b[0m \u001b[38;5;28;01mfor\u001b[39;00m i \u001b[38;5;129;01min\u001b[39;00m \u001b[38;5;28mrange\u001b[39m(n):\n",
      "\u001b[0;31mKeyboardInterrupt\u001b[0m: "
     ]
    }
   ],
   "source": [
    "# 1181\n",
    "import sys\n",
    "\n",
    "n = int(sys.stdin.readline())\n",
    "words = set()\n",
    "for i in range(n):\n",
    "    words.add(sys.stdin.readline().strip())\n",
    "result = list(words)\n",
    "result.sort(key=lambda x:(len(x),x))\n",
    "for i in result:\n",
    "    print(i)"
   ]
  },
  {
   "cell_type": "code",
   "execution_count": 9,
   "metadata": {},
   "outputs": [
    {
     "name": "stdout",
     "output_type": "stream",
     "text": [
      "66666\n"
     ]
    }
   ],
   "source": [
    "#1436\n",
    "# 666 1666 2666 3666 ... 6660 6661 6662 6663 6664 6665 \n",
    "import sys\n",
    "\n",
    "n = int(sys.stdin.readline())\n",
    "target = 0\n",
    "while n:\n",
    "    target += 1\n",
    "    m=0\n",
    "    for i in str(target):\n",
    "        if i == '6':\n",
    "            m+=1\n",
    "            if m == 3:\n",
    "                n-=1\n",
    "                break\n",
    "        else:\n",
    "            m=0\n",
    "print(target)\n",
    "\n",
    "\n",
    "\n"
   ]
  },
  {
   "cell_type": "code",
   "execution_count": 13,
   "metadata": {},
   "outputs": [
    {
     "ename": "KeyboardInterrupt",
     "evalue": "",
     "output_type": "error",
     "traceback": [
      "\u001b[0;31m---------------------------------------------------------------------------\u001b[0m",
      "\u001b[0;31mKeyboardInterrupt\u001b[0m                         Traceback (most recent call last)",
      "Cell \u001b[0;32mIn[13], line 7\u001b[0m\n\u001b[1;32m      5\u001b[0m \u001b[38;5;28;01mwhile\u001b[39;00m n:\n\u001b[1;32m      6\u001b[0m     target\u001b[38;5;241m+\u001b[39m\u001b[38;5;241m=\u001b[39m\u001b[38;5;241m1\u001b[39m\n\u001b[0;32m----> 7\u001b[0m     \u001b[38;5;28;01mif\u001b[39;00m \u001b[38;5;124m'\u001b[39m\u001b[38;5;124m666\u001b[39m\u001b[38;5;124m'\u001b[39m \u001b[38;5;129;01min\u001b[39;00m \u001b[38;5;28mstr\u001b[39m(target):\n\u001b[1;32m      8\u001b[0m         n\u001b[38;5;241m-\u001b[39m\u001b[38;5;241m1\u001b[39m\n\u001b[1;32m      9\u001b[0m \u001b[38;5;28mprint\u001b[39m(target)\n",
      "\u001b[0;31mKeyboardInterrupt\u001b[0m: "
     ]
    }
   ],
   "source": [
    "# 1436 코드 리뷰 (정답 응용)\n",
    "\n",
    "n = int(input())\n",
    "target = 665\n",
    "while n:\n",
    "    target+=1\n",
    "    if '666' in str(target):\n",
    "        n-=1\n",
    "print(target)\n",
    "\n",
    "# 이게 더 속도가 빠름\n",
    "\n",
    "n=int(input())\n",
    "number=0\n",
    "i=1\n",
    "while(True):\n",
    "    if '666' in str(i): number+=1\n",
    "    if number == n:\n",
    "        print(i)\n",
    "        exit()\n",
    "    i+=1\n"
   ]
  },
  {
   "cell_type": "code",
   "execution_count": 5,
   "metadata": {},
   "outputs": [
    {
     "name": "stdout",
     "output_type": "stream",
     "text": [
      "66.66666666666667\n"
     ]
    }
   ],
   "source": [
    "#1546\n",
    "\n",
    "n = int(input())\n",
    "scores = list(map(int,input().split()))\n",
    "top = max(scores)\n",
    "average = 0\n",
    "for i in scores:\n",
    "    average += i/top*100\n",
    "\n",
    "print (average/n)"
   ]
  },
  {
   "cell_type": "code",
   "execution_count": 7,
   "metadata": {},
   "outputs": [
    {
     "name": "stdout",
     "output_type": "stream",
     "text": [
      "800\n"
     ]
    }
   ],
   "source": [
    "#1654\n",
    "\n",
    "n, target = map(int,input().split())\n",
    "nums= []\n",
    "for _ in range(n):\n",
    "    nums.append(int(input()))\n",
    "start = 1\n",
    "end = max(nums)\n",
    "\n",
    "while start <= end:\n",
    "    mid = (start+end) // 2\n",
    "    count = 0\n",
    "    for i in nums:\n",
    "        count+= i//mid\n",
    "    if count >= target:\n",
    "        start = mid+1\n",
    "    else:\n",
    "        end = mid-1\n",
    "    \n",
    "print(end)\n"
   ]
  },
  {
   "cell_type": "code",
   "execution_count": 10,
   "metadata": {},
   "outputs": [
    {
     "name": "stdout",
     "output_type": "stream",
     "text": [
      "200\n"
     ]
    }
   ],
   "source": [
    "nums = [802,743,457,539]\n",
    "start = 1\n",
    "end = max(nums)\n",
    "target = 11\n",
    "\n",
    "while start <= end:\n",
    "    mid = (start+end) // 2\n",
    "    count = 0\n",
    "    for i in nums:\n",
    "        count+= i//mid\n",
    "    if count >= target:\n",
    "        start = mid+1\n",
    "    else:\n",
    "        end = mid-1\n",
    "    \n",
    "print(end)\n",
    "\n",
    "    \n"
   ]
  },
  {
   "cell_type": "code",
   "execution_count": 16,
   "metadata": {},
   "outputs": [],
   "source": [
    "n, m  = map(int,input().split())\n",
    "board = []\n",
    "for i in range(n):\n",
    "    board.append(list(input()))\n",
    "answer = n*m\n",
    "for x in range(n-7):\n",
    "    for y in range(m-7):\n",
    "            # 시작점\n",
    "        check = [0,0]\n",
    "        for i in range(x,x+8):\n",
    "            for j in range(y,y+8):\n",
    "                if (i+j)%2 == 1:\n",
    "                    if board[i][j] == \"W\":\n",
    "                        check[0]+=1\n",
    "                    if board[i][j] == \"B\":\n",
    "                        check[1]+=1\n",
    "                else:\n",
    "                    if board[i][j] == \"B\":\n",
    "                        check[0]+=1\n",
    "                    if board[i][j] == \"W\":\n",
    "                        check[1]+=1\n",
    "        answer = min(answer,check[0],check[1])\n",
    "\n",
    "print(answer)"
   ]
  },
  {
   "cell_type": "code",
   "execution_count": 17,
   "metadata": {},
   "outputs": [
    {
     "name": "stdout",
     "output_type": "stream",
     "text": [
      "[['W', 'B', 'W', 'B', 'W', 'B', 'W', 'B'], ['B', 'W', 'B', 'W', 'B', 'W', 'B', 'W'], ['W', 'B', 'W', 'B', 'W', 'B', 'W', 'B'], ['B', 'W', 'B', 'W', 'B', 'W', 'B', 'W'], ['W', 'B', 'W', 'B', 'W', 'B', 'W', 'B'], ['B', 'W', 'B', 'W', 'B', 'W', 'B', 'W'], ['W', 'B', 'W', 'B', 'W', 'B', 'W', 'B'], ['B', 'W', 'B', 'W', 'B', 'W', 'B', 'W']]\n"
     ]
    }
   ],
   "source": [
    "print(board)"
   ]
  },
  {
   "cell_type": "code",
   "execution_count": 24,
   "metadata": {},
   "outputs": [
    {
     "name": "stdout",
     "output_type": "stream",
     "text": [
      "1\n"
     ]
    }
   ],
   "source": [
    "# 1018\n",
    "board = [['W', 'B', 'B', 'B', 'W', 'B', 'W', 'B'], ['B', 'W', 'B', 'W', 'B', 'W', 'B', 'W'], ['W', 'B', 'W', 'B', 'W', 'B', 'W', 'B'], ['B', 'W', 'B', 'W', 'B', 'W', 'B', 'W'], ['W', 'B', 'W', 'B', 'W', 'B', 'W', 'B'], ['B', 'W', 'B', 'W', 'B', 'W', 'B', 'W'], ['W', 'B', 'W', 'B', 'W', 'B', 'W', 'B'], ['B', 'W', 'B', 'W', 'B', 'W', 'B', 'W']]\n",
    "n = 8\n",
    "m = 8\n",
    "answer = n*m\n",
    "for x in range(n-7):\n",
    "    for y in range(m-7):\n",
    "            # 시작점\n",
    "        check = [0,0]\n",
    "        for i in range(x,x+8):\n",
    "            for j in range(y,y+8):\n",
    "                if (i+j)%2 == 1:\n",
    "                    if board[i][j] == \"W\":\n",
    "                        check[0]+=1\n",
    "                    if board[i][j] == \"B\":\n",
    "                        check[1]+=1\n",
    "                else:\n",
    "                    if board[i][j] == \"B\":\n",
    "                        check[0]+=1\n",
    "                    if board[i][j] == \"W\":\n",
    "                        check[1]+=1\n",
    "        answer = min(answer,check[0],check[1])\n",
    "\n",
    "print(answer)\n",
    "\n",
    "        "
   ]
  },
  {
   "cell_type": "code",
   "execution_count": 28,
   "metadata": {},
   "outputs": [
    {
     "name": "stdout",
     "output_type": "stream",
     "text": [
      "i\n",
      "im\n",
      "it\n",
      "no\n",
      "but\n",
      "more\n",
      "wait\n",
      "wont\n",
      "yours\n",
      "cannot\n",
      "hisitate\n"
     ]
    }
   ],
   "source": [
    "n = int(input())\n",
    "words = set()\n",
    "for _ in range(n):\n",
    "    words.add(input())\n",
    "words = list(words)\n",
    "words.sort(key= lambda x: (len(x), x))\n",
    "for i in words:\n",
    "    print(i)"
   ]
  },
  {
   "cell_type": "code",
   "execution_count": 9,
   "metadata": {},
   "outputs": [
    {
     "name": "stdout",
     "output_type": "stream",
     "text": [
      "[3, 4, 5]\n",
      "right\n",
      "[]\n"
     ]
    },
    {
     "ename": "IndexError",
     "evalue": "list index out of range",
     "output_type": "error",
     "traceback": [
      "\u001b[0;31m---------------------------------------------------------------------------\u001b[0m",
      "\u001b[0;31mIndexError\u001b[0m                                Traceback (most recent call last)",
      "Cell \u001b[0;32mIn[9], line 7\u001b[0m\n\u001b[1;32m      5\u001b[0m \u001b[38;5;28;01mif\u001b[39;00m edge \u001b[38;5;241m==\u001b[39m [\u001b[38;5;241m0\u001b[39m,\u001b[38;5;241m0\u001b[39m,\u001b[38;5;241m0\u001b[39m]:\n\u001b[1;32m      6\u001b[0m   \u001b[38;5;28;01mbreak\u001b[39;00m\n\u001b[0;32m----> 7\u001b[0m \u001b[38;5;28;01mif\u001b[39;00m \u001b[43medge\u001b[49m\u001b[43m[\u001b[49m\u001b[38;5;241;43m2\u001b[39;49m\u001b[43m]\u001b[49m\u001b[38;5;241m*\u001b[39m\u001b[38;5;241m*\u001b[39m\u001b[38;5;241m2\u001b[39m \u001b[38;5;241m==\u001b[39m edge[\u001b[38;5;241m0\u001b[39m]\u001b[38;5;241m*\u001b[39m\u001b[38;5;241m*\u001b[39m\u001b[38;5;241m2\u001b[39m \u001b[38;5;241m+\u001b[39m edge[\u001b[38;5;241m1\u001b[39m]\u001b[38;5;241m*\u001b[39m\u001b[38;5;241m*\u001b[39m\u001b[38;5;241m2\u001b[39m :\n\u001b[1;32m      8\u001b[0m   \u001b[38;5;28mprint\u001b[39m(\u001b[38;5;124m'\u001b[39m\u001b[38;5;124mright\u001b[39m\u001b[38;5;124m'\u001b[39m)\n\u001b[1;32m      9\u001b[0m \u001b[38;5;28;01melse\u001b[39;00m:\n",
      "\u001b[0;31mIndexError\u001b[0m: list index out of range"
     ]
    }
   ],
   "source": [
    "#4153\n",
    "while True:\n",
    "  edge =  sorted(list(map(int,input().split())))\n",
    "  if edge == [0,0,0]:\n",
    "    break\n",
    "  if edge[2]**2 == edge[0]**2 + edge[1]**2 :\n",
    "    print('right')\n",
    "  else:\n",
    "    print('wrong')\n"
   ]
  },
  {
   "cell_type": "code",
   "execution_count": 1,
   "metadata": {},
   "outputs": [
    {
     "name": "stdout",
     "output_type": "stream",
     "text": [
      "4\n"
     ]
    }
   ],
   "source": [
    "# 1978\n",
    "n = int(input())\n",
    "nums = list(map(int,input().split()))\n",
    "count = 0\n",
    "\n",
    "for i in nums:\n",
    "    non = False\n",
    "    if i == 1:\n",
    "        continue\n",
    "    if i == 2:\n",
    "        count += 1\n",
    "        continue\n",
    "    for j in range(2,i):\n",
    "        if i % j == 0:\n",
    "            non = True\n",
    "            break\n",
    "    if non == False:\n",
    "        count += 1\n",
    "        \n",
    "print(count)"
   ]
  },
  {
   "cell_type": "code",
   "execution_count": 3,
   "metadata": {},
   "outputs": [
    {
     "name": "stdout",
     "output_type": "stream",
     "text": [
      "3\n"
     ]
    }
   ],
   "source": [
    "# 2292 1 2 8 20 28\n",
    "target = int(input())\n",
    "location = 1\n",
    "count = 1\n",
    "while target > location:\n",
    "  location += 6*count\n",
    "  count+=1\n",
    "\n",
    "print(count)"
   ]
  },
  {
   "cell_type": "code",
   "execution_count": 7,
   "metadata": {},
   "outputs": [
    {
     "name": "stdout",
     "output_type": "stream",
     "text": [
      "1\n",
      "1\n",
      "0\n",
      "0\n",
      "1\n"
     ]
    }
   ],
   "source": [
    "#1920\n",
    "\n",
    "import sys\n",
    "n = int(input())\n",
    "nums = set(map(int,input().split()))\n",
    "m = int(input())\n",
    "m_nums = list(map(int,input().split()))\n",
    "\n",
    "for i in m_nums:\n",
    "  if i in nums:\n",
    "    print(1)\n",
    "  else:\n",
    "    print(0)"
   ]
  },
  {
   "cell_type": "code",
   "execution_count": 5,
   "metadata": {},
   "outputs": [
    {
     "name": "stdout",
     "output_type": "stream",
     "text": [
      "1\n",
      "1\n"
     ]
    },
    {
     "ename": "KeyboardInterrupt",
     "evalue": "",
     "output_type": "error",
     "traceback": [
      "\u001b[0;31m---------------------------------------------------------------------------\u001b[0m",
      "\u001b[0;31mKeyboardInterrupt\u001b[0m                         Traceback (most recent call last)",
      "Cell \u001b[0;32mIn[5], line 15\u001b[0m\n\u001b[1;32m     13\u001b[0m \u001b[38;5;28;01mwhile\u001b[39;00m start\u001b[38;5;241m<\u001b[39m\u001b[38;5;241m=\u001b[39mend:\n\u001b[1;32m     14\u001b[0m     mid \u001b[38;5;241m=\u001b[39m (start\u001b[38;5;241m+\u001b[39mend)\u001b[38;5;241m/\u001b[39m\u001b[38;5;241m/\u001b[39m\u001b[38;5;241m2\u001b[39m\n\u001b[0;32m---> 15\u001b[0m     \u001b[38;5;28;01mif\u001b[39;00m i \u001b[38;5;241m==\u001b[39m nums[mid]:\n\u001b[1;32m     16\u001b[0m         result \u001b[38;5;241m=\u001b[39m \u001b[38;5;241m1\u001b[39m\n\u001b[1;32m     17\u001b[0m         \u001b[38;5;28;01mbreak\u001b[39;00m\n",
      "\u001b[0;31mKeyboardInterrupt\u001b[0m: "
     ]
    }
   ],
   "source": [
    "# 1920 \n",
    "\n",
    "n = int(input())\n",
    "nums = list(map(int,input().split()))\n",
    "m = int(input())\n",
    "m_nums = list(map(int,input().split()))\n",
    "nums.sort()\n",
    "\n",
    "for i in m_nums:\n",
    "    start = 0\n",
    "    end = len(nums)-1\n",
    "    result = 0\n",
    "    while start<=end:\n",
    "        mid = (start+end)//2\n",
    "        if i == nums[mid]:\n",
    "            result = 1\n",
    "            break\n",
    "        elif i > nums[mid]:\n",
    "            start = mid + 1\n",
    "        else:\n",
    "            end = mid - 1\n",
    "    print(result)\n",
    "        \n",
    "            \n"
   ]
  },
  {
   "cell_type": "code",
   "execution_count": 5,
   "metadata": {},
   "outputs": [
    {
     "ename": "ValueError",
     "evalue": "invalid literal for int() with base 10: ''",
     "output_type": "error",
     "traceback": [
      "\u001b[0;31m---------------------------------------------------------------------------\u001b[0m",
      "\u001b[0;31mValueError\u001b[0m                                Traceback (most recent call last)",
      "Cell \u001b[0;32mIn[5], line 3\u001b[0m\n\u001b[1;32m      1\u001b[0m \u001b[38;5;66;03m#15829\u001b[39;00m\n\u001b[0;32m----> 3\u001b[0m n \u001b[38;5;241m=\u001b[39m \u001b[38;5;28;43mint\u001b[39;49m\u001b[43m(\u001b[49m\u001b[38;5;28;43minput\u001b[39;49m\u001b[43m(\u001b[49m\u001b[43m)\u001b[49m\u001b[43m)\u001b[49m\n\u001b[1;32m      4\u001b[0m string \u001b[38;5;241m=\u001b[39m \u001b[38;5;28minput\u001b[39m()\n\u001b[1;32m      5\u001b[0m result \u001b[38;5;241m=\u001b[39m \u001b[38;5;241m0\u001b[39m\n",
      "\u001b[0;31mValueError\u001b[0m: invalid literal for int() with base 10: ''"
     ]
    }
   ],
   "source": [
    "#15829\n",
    "\n",
    "n = int(input())\n",
    "string = input()\n",
    "result = 0\n",
    "for i,a in enumerate(string):\n",
    "  num = ord(a)-96\n",
    "  result+=num*31**(i)\n",
    "print(result%1234567891)"
   ]
  },
  {
   "cell_type": "code",
   "execution_count": 14,
   "metadata": {},
   "outputs": [
    {
     "name": "stdout",
     "output_type": "stream",
     "text": [
      "2\n"
     ]
    }
   ],
   "source": [
    "#1676\n",
    "\n",
    "n = int(input())\n",
    "\n",
    "# def factorial (number):\n",
    "#   if number == 1:\n",
    "#     return 1\n",
    "#   else:\n",
    "#     return number*factorial(number-1)\n",
    "\n",
    "result = 1\n",
    "for i in range(2,n+1):\n",
    "  result *= i\n",
    "result = str(result)\n",
    "count = 0\n",
    "for i in result[::-1]:\n",
    "  if i == \"0\":\n",
    "    count+=1\n",
    "  else:\n",
    "    break\n",
    "\n",
    "print (count)\n",
    "\n"
   ]
  },
  {
   "cell_type": "code",
   "execution_count": 29,
   "metadata": {},
   "outputs": [
    {
     "name": "stdout",
     "output_type": "stream",
     "text": [
      "3\n",
      "5\n",
      "7\n",
      "11\n",
      "13\n"
     ]
    }
   ],
   "source": [
    "m, n = map(int,input().split())\n",
    "\n",
    "for i in range(m,n+1):\n",
    "  if i == 1:\n",
    "    continue\n",
    "  isdecimal = True\n",
    "  for j in range(2,int(i**(1/2)+1)):\n",
    "    if i%j == 0:\n",
    "      isdecimal = False\n",
    "      break\n",
    "  if isdecimal:\n",
    "    print(i)\n"
   ]
  },
  {
   "cell_type": "code",
   "execution_count": 63,
   "metadata": {},
   "outputs": [
    {
     "name": "stdout",
     "output_type": "stream",
     "text": [
      "3\n"
     ]
    }
   ],
   "source": [
    "arr = [1,1,2,2,2,3,3,3]\n",
    "#최빈값\n",
    "dic=dict()\n",
    "for i in arr:#빈도수 구하기\n",
    "    if i in dic:\n",
    "        dic[i]+=1\n",
    "    else:\n",
    "        dic[i]=1\n",
    "        \n",
    "mx=max(dic.values())#빈도수 중 최대값 구하기\n",
    "mx_dic=[]#최빈값 숫자를 저장할 배열\n",
    "\n",
    "for i in dic:#빈도수 딕셔너리에서\n",
    "    if mx==dic[i]:#최빈값의 key저장\n",
    "        mx_dic.append(i)\n",
    "\n",
    "if len(mx_dic)>1:#최빈값이 여러개라면\n",
    "    print(mx_dic[1])#두번째로 작은 값  3)최빈값\n",
    "else:#하나라면\n",
    "    print(mx_dic[0])#해당 값 출력  3)최빈값"
   ]
  },
  {
   "cell_type": "code",
   "execution_count": 74,
   "metadata": {},
   "outputs": [
    {
     "name": "stdout",
     "output_type": "stream",
     "text": [
      "count Counter({'h': 3, 'e': 3, 'l': 3, 'o': 3, '?': 1})\n",
      "com [('h', 3), ('e', 3)]\n",
      "e\n"
     ]
    }
   ],
   "source": [
    "from collections import Counter\n",
    "\n",
    "num = 'hhheeelllooo?'\n",
    "counter = Counter(num)\n",
    "print('count',counter)\n",
    "common = counter.most_common(2)\n",
    "print('com',common)\n",
    "if common[0][1] == common[1][1]:\n",
    "  print(common[1][0])\n",
    "else:\n",
    "  print(common[0][0])"
   ]
  },
  {
   "cell_type": "code",
   "execution_count": 8,
   "metadata": {},
   "outputs": [
    {
     "name": "stdout",
     "output_type": "stream",
     "text": [
      "4\n"
     ]
    }
   ],
   "source": [
    "# 2164\n",
    "from collections import deque\n",
    "\n",
    "n = int(input())\n",
    "arr = deque()\n",
    "for i in range(n,0,-1):\n",
    "  arr.append(i)\n",
    "while len(arr) !=1:\n",
    "  arr.pop()\n",
    "  arr.rotate(1)\n",
    "\n",
    "print(arr[0])"
   ]
  },
  {
   "cell_type": "code",
   "execution_count": 20,
   "metadata": {},
   "outputs": [
    {
     "name": "stdout",
     "output_type": "stream",
     "text": [
      "6\n",
      "24\n"
     ]
    }
   ],
   "source": [
    "#2609\n",
    "\n",
    "#최대 공약수\n",
    "# 유클리드 호제법\n",
    "# a,b의 최대 공약수는 a를 b로 나눈 r에 대해 b와 r의 최대 공약수와 같다.\n",
    "# 이것을 반복하여 b가 r에 의해 나눠질때 r이 최대 공약수가 된다.\n",
    "\n",
    "nums = list(map(int,input().split()))\n",
    "nums.sort(reverse=True)\n",
    "n, m = nums\n",
    "r = n%m\n",
    "while r != 0:\n",
    "  n = m\n",
    "  m = r\n",
    "  r = n%m\n",
    "\n",
    "print(m)\n",
    "print (int(nums[0]*nums[1]/m))\n",
    "\n",
    "\n"
   ]
  },
  {
   "cell_type": "code",
   "execution_count": 3,
   "metadata": {},
   "outputs": [
    {
     "name": "stdout",
     "output_type": "stream",
     "text": [
      "2\n"
     ]
    }
   ],
   "source": []
  }
 ],
 "metadata": {
  "kernelspec": {
   "display_name": "Python 3 (ipykernel)",
   "language": "python",
   "name": "python3"
  },
  "language_info": {
   "codemirror_mode": {
    "name": "ipython",
    "version": 3
   },
   "file_extension": ".py",
   "mimetype": "text/x-python",
   "name": "python",
   "nbconvert_exporter": "python",
   "pygments_lexer": "ipython3",
   "version": "3.10.12"
  }
 },
 "nbformat": 4,
 "nbformat_minor": 4
}
