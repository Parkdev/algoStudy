{
 "cells": [
  {
   "cell_type": "code",
   "execution_count": 33,
   "metadata": {},
   "outputs": [
    {
     "name": "stdout",
     "output_type": "stream",
     "text": [
      "1 0\n",
      "0 1\n",
      "0 0\n"
     ]
    }
   ],
   "source": [
    "#1003\n",
    "def fib (n,count) :\n",
    "  fibList=[1,1]\n",
    "  if n == 0 :\n",
    "    count[0]+=1\n",
    "    return 0, count\n",
    "  elif n == 1:\n",
    "    count[1]+=1\n",
    "    return 1 , count\n",
    "  elif n == 2:\n",
    "    count[0]+=1\n",
    "    count[1]+=1\n",
    "    return 1, count\n",
    "  for i in range(2, n):\n",
    "    fibList.append( fibList[i-1] + fibList[i-2])\n",
    "  return fibList\n",
    "\n",
    "\n"
   ]
  },
  {
   "cell_type": "code",
   "execution_count": 17,
   "metadata": {},
   "outputs": [
    {
     "name": "stdout",
     "output_type": "stream",
     "text": [
      "1 2\n"
     ]
    }
   ],
   "source": [
    "def fib(n):\n",
    "    fibList = [[1,0], [0,1]]\n",
    "    if n == 0:\n",
    "        return fibList[0]\n",
    "    elif n == 1:\n",
    "        return fibList[1]\n",
    "    else:\n",
    "        for i in range(2, n+1):\n",
    "            fibList.append([x+y for x,y in zip(fibList[i-1], fibList[i-2])])\n",
    "        return fibList[n]\n",
    "\n",
    "t = int(input())\n",
    "for _ in range(t):\n",
    "    i = int(input())\n",
    "    print(*fib(i))"
   ]
  },
  {
   "cell_type": "code",
   "execution_count": 25,
   "metadata": {},
   "outputs": [
    {
     "name": "stdout",
     "output_type": "stream",
     "text": [
      "2\n"
     ]
    }
   ],
   "source": [
    "#1012\n",
    "import copy\n",
    "t = int(input())\n",
    "# t = 1\n",
    "m,n,k = map(int,input().split())\n",
    "# m,n,k = 10, 8, 17\n",
    "# test = [[0,0],[1,0],[4,2],[4,3],[4,5],[2,4],[3,4],[7,4],[8,4],[9,4],[7,5],[8,5],[9,5],[7,6],[8,6],[9,6]]\n",
    "#판깔기\n",
    "board = [[0]*m for _ in range(n)]\n",
    "visited = copy.deepcopy(board)\n",
    "\n",
    "#컨트롤러\n",
    "controls = [[1,0],[0,1],[-1,0],[0,-1]]\n",
    "\n",
    "#배추깔기\n",
    "for _ in range(k):\n",
    "  x, y= map(int,input().split())\n",
    "  board[y][x] = 1\n",
    "# for i in test:\n",
    "#   x, y = map(int,i)\n",
    "  # board[y][x] = 1\n",
    "\n",
    "worms = 0\n",
    "def search(a, b):\n",
    "    visited[a][b] = 1\n",
    "    for x, y in controls:\n",
    "        nx, ny = a + x, b + y\n",
    "        if 0 <= nx < n and 0 <= ny < m and board[nx][ny] == 1 and visited[nx][ny] == 0:\n",
    "            search(nx, ny)\n",
    "    \n",
    "for i in range(n):\n",
    "    for j in range(m):\n",
    "        if board[i][j] == 1 and visited[i][j] == 0:\n",
    "            search(i, j)\n",
    "            worms += 1\n",
    "\n",
    "print(worms)"
   ]
  },
  {
   "cell_type": "code",
   "execution_count": 26,
   "metadata": {},
   "outputs": [
    {
     "name": "stdout",
     "output_type": "stream",
     "text": [
      "5\n",
      "1\n"
     ]
    }
   ],
   "source": [
    "#1012\n",
    "import copy\n",
    "t = int(input())\n",
    "controls = [[1,0],[0,1],[-1,0],[0,-1]]\n",
    "\n",
    "def search(a, b):\n",
    "    visited[a][b] = 1\n",
    "    for x, y in controls:\n",
    "        nx, ny = a + x, b + y\n",
    "        if 0 <= nx < n and 0 <= ny < m and board[nx][ny] == 1 and visited[nx][ny] == 0:\n",
    "            search(nx, ny)\n",
    "\n",
    "for _ in range(t):\n",
    "    m,n,k = map(int,input().split())\n",
    "    board = [[0]*m for _ in range(n)]\n",
    "    visited = copy.deepcopy(board)\n",
    "    worms= 0\n",
    "\n",
    "    for _ in range(k):\n",
    "        x, y= map(int,input().split())\n",
    "        board[y][x] = 1\n",
    "\n",
    "    for i in range(n):\n",
    "        for j in range(m):\n",
    "            if board[i][j] == 1 and visited[i][j] == 0:\n",
    "                search(i, j)\n",
    "                worms += 1\n",
    "\n",
    "    print(worms)"
   ]
  },
  {
   "cell_type": "code",
   "execution_count": null,
   "metadata": {},
   "outputs": [],
   "source": [
    "#1012\n",
    "from collections import deque\n",
    "import copy\n",
    "t = int(input())\n",
    "controls = [[1,0],[0,1],[-1,0],[0,-1]]\n",
    "\n",
    "def search(a, b):\n",
    "    visited[a][b] = 1\n",
    "    queue = deque()\n",
    "    queue.append((a,b))\n",
    "    while queue:\n",
    "      q_a, q_b = queue.popleft()\n",
    "      for x, y in controls:\n",
    "        nx, ny = q_a + x, q_b + y\n",
    "        if 0 <= nx < n and 0 <= ny < m and board[nx][ny] == 1 and visited[nx][ny] == 0:\n",
    "          queue.append((nx,ny))\n",
    "          visited[nx][ny]= 1\n",
    "for _ in range(t):\n",
    "    m,n,k = map(int,input().split())\n",
    "    board = [[0]*m for _ in range(n)]\n",
    "    visited = copy.deepcopy(board)\n",
    "    worms= 0\n",
    "\n",
    "    for _ in range(k):\n",
    "        x, y= map(int,input().split())\n",
    "        board[y][x] = 1\n",
    "\n",
    "    for i in range(n):\n",
    "        for j in range(m):\n",
    "            if board[i][j] == 1 and visited[i][j] == 0:\n",
    "                search(i, j)\n",
    "                worms += 1\n",
    "\n",
    "    print(worms)"
   ]
  },
  {
   "cell_type": "code",
   "execution_count": 10,
   "metadata": {},
   "outputs": [
    {
     "name": "stdout",
     "output_type": "stream",
     "text": [
      "[[0, 0], [1, 1]]\n"
     ]
    }
   ],
   "source": [
    "#1074 \n",
    "\n",
    "n, r, c = map(int,input().split())\n",
    "\n",
    "board = [[i]*(2**n) for i in range(2**n)]\n",
    "print(board)"
   ]
  },
  {
   "cell_type": "code",
   "execution_count": 6,
   "metadata": {},
   "outputs": [
    {
     "ename": "UnboundLocalError",
     "evalue": "local variable 'result' referenced before assignment",
     "output_type": "error",
     "traceback": [
      "\u001b[0;31m---------------------------------------------------------------------------\u001b[0m",
      "\u001b[0;31mUnboundLocalError\u001b[0m                         Traceback (most recent call last)",
      "Cell \u001b[0;32mIn[6], line 41\u001b[0m\n\u001b[1;32m     38\u001b[0m       result \u001b[38;5;241m+\u001b[39m\u001b[38;5;241m=\u001b[39m \u001b[38;5;241m0\u001b[39m\n\u001b[1;32m     39\u001b[0m       \u001b[38;5;28;01mreturn\u001b[39;00m zBoard(n\u001b[38;5;241m-\u001b[39m\u001b[38;5;241m1\u001b[39m, r, c)\n\u001b[0;32m---> 41\u001b[0m \u001b[38;5;28mprint\u001b[39m(\u001b[43mzBoard\u001b[49m\u001b[43m(\u001b[49m\u001b[43mn\u001b[49m\u001b[43m,\u001b[49m\u001b[43mr\u001b[49m\u001b[43m,\u001b[49m\u001b[43mc\u001b[49m\u001b[43m)\u001b[49m)\n",
      "Cell \u001b[0;32mIn[6], line 31\u001b[0m, in \u001b[0;36mzBoard\u001b[0;34m(n, r, c)\u001b[0m\n\u001b[1;32m     29\u001b[0m     \u001b[38;5;28;01mreturn\u001b[39;00m zBoard(n\u001b[38;5;241m-\u001b[39m\u001b[38;5;241m1\u001b[39m, r\u001b[38;5;241m-\u001b[39m\u001b[38;5;241m2\u001b[39m\u001b[38;5;241m*\u001b[39m\u001b[38;5;241m*\u001b[39m(n\u001b[38;5;241m-\u001b[39m\u001b[38;5;241m1\u001b[39m), c\u001b[38;5;241m-\u001b[39m\u001b[38;5;241m2\u001b[39m\u001b[38;5;241m*\u001b[39m\u001b[38;5;241m*\u001b[39m(n\u001b[38;5;241m-\u001b[39m\u001b[38;5;241m1\u001b[39m))\n\u001b[1;32m     30\u001b[0m   \u001b[38;5;28;01melse\u001b[39;00m :\n\u001b[0;32m---> 31\u001b[0m     result \u001b[38;5;241m+\u001b[39m\u001b[38;5;241m=\u001b[39m \u001b[38;5;241m4\u001b[39m\u001b[38;5;241m*\u001b[39m\u001b[38;5;241m*\u001b[39m(n\u001b[38;5;241m-\u001b[39m\u001b[38;5;241m1\u001b[39m)\u001b[38;5;241m*\u001b[39m\u001b[38;5;241m2\u001b[39m\n\u001b[1;32m     32\u001b[0m     \u001b[38;5;28;01mreturn\u001b[39;00m zBoard(n\u001b[38;5;241m-\u001b[39m\u001b[38;5;241m1\u001b[39m, r\u001b[38;5;241m-\u001b[39m\u001b[38;5;241m2\u001b[39m\u001b[38;5;241m*\u001b[39m\u001b[38;5;241m*\u001b[39m(n\u001b[38;5;241m-\u001b[39m\u001b[38;5;241m1\u001b[39m), c)\n\u001b[1;32m     33\u001b[0m \u001b[38;5;28;01melse\u001b[39;00m:\n",
      "\u001b[0;31mUnboundLocalError\u001b[0m: local variable 'result' referenced before assignment"
     ]
    }
   ],
   "source": [
    "# n = 2 3 1\n",
    "# 4 1\n",
    "# n = 3 7 7\n",
    "# 1\n",
    "# 1 2 3 4\n",
    "\n",
    "# 2\n",
    "# 0 4 8 12\n",
    "\n",
    "# 3 7 7 2**(n-1)\n",
    "# 0 16 32 48\n",
    "\n",
    "# 4 4**n\n",
    "# 0 64 \n",
    "\n",
    "# 3 7 7\n",
    "# 보드 = 3\n",
    "# 행 = 6\n",
    "# 열 = 7\n",
    "n, r, c = map(int,input().split())\n",
    "result = 0\n",
    "\n",
    "def zBoard(n, r, c, result):\n",
    "  if n == 1:\n",
    "    return result + 2*r + c\n",
    "  if r >= 2**(n-1):\n",
    "    if c >= 2**(n-1):\n",
    "      result += 4**(n-1)*3\n",
    "      return zBoard(n-1, r-2**(n-1), c-2**(n-1), result)\n",
    "    else :\n",
    "      result += 4**(n-1)*2\n",
    "      return zBoard(n-1, r-2**(n-1), c, result)\n",
    "  else:\n",
    "    if c >= 2**(n-1):\n",
    "      result += 4**(n-1)\n",
    "      return zBoard(n-1, r, c-2**(n-1), result)\n",
    "    else :\n",
    "      result += 0\n",
    "      return zBoard(n-1, r, c, result)\n",
    "\n",
    "print(zBoard(n,r,c, result))\n",
    "\n",
    "  \n",
    "\n",
    "  "
   ]
  }
 ],
 "metadata": {
  "kernelspec": {
   "display_name": "Python 3",
   "language": "python",
   "name": "python3"
  },
  "language_info": {
   "codemirror_mode": {
    "name": "ipython",
    "version": 3
   },
   "file_extension": ".py",
   "mimetype": "text/x-python",
   "name": "python",
   "nbconvert_exporter": "python",
   "pygments_lexer": "ipython3",
   "version": "3.10.12"
  }
 },
 "nbformat": 4,
 "nbformat_minor": 2
}
