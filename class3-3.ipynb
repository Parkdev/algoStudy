{
 "cells": [
  {
   "cell_type": "code",
   "execution_count": 33,
   "metadata": {},
   "outputs": [
    {
     "ename": "IndexError",
     "evalue": "string index out of range",
     "output_type": "error",
     "traceback": [
      "\u001b[0;31m---------------------------------------------------------------------------\u001b[0m",
      "\u001b[0;31mIndexError\u001b[0m                                Traceback (most recent call last)",
      "Cell \u001b[0;32mIn[33], line 13\u001b[0m\n\u001b[1;32m     11\u001b[0m i \u001b[38;5;241m=\u001b[39m \u001b[38;5;241m1\u001b[39m\n\u001b[1;32m     12\u001b[0m \u001b[38;5;28;01mwhile\u001b[39;00m i \u001b[38;5;241m<\u001b[39m M\u001b[38;5;241m-\u001b[39m\u001b[38;5;241m1\u001b[39m:\n\u001b[0;32m---> 13\u001b[0m     \u001b[38;5;28;01mif\u001b[39;00m \u001b[43mS\u001b[49m\u001b[43m[\u001b[49m\u001b[43mi\u001b[49m\u001b[38;5;241;43m-\u001b[39;49m\u001b[38;5;241;43m1\u001b[39;49m\u001b[43m]\u001b[49m \u001b[38;5;241m==\u001b[39m \u001b[38;5;124m'\u001b[39m\u001b[38;5;124mI\u001b[39m\u001b[38;5;124m'\u001b[39m \u001b[38;5;129;01mand\u001b[39;00m S[i] \u001b[38;5;241m==\u001b[39m \u001b[38;5;124m'\u001b[39m\u001b[38;5;124mO\u001b[39m\u001b[38;5;124m'\u001b[39m \u001b[38;5;129;01mand\u001b[39;00m S[i\u001b[38;5;241m+\u001b[39m\u001b[38;5;241m1\u001b[39m] \u001b[38;5;241m==\u001b[39m \u001b[38;5;124m'\u001b[39m\u001b[38;5;124mI\u001b[39m\u001b[38;5;124m'\u001b[39m:\n\u001b[1;32m     14\u001b[0m         pattern \u001b[38;5;241m+\u001b[39m\u001b[38;5;241m=\u001b[39m \u001b[38;5;241m1\u001b[39m  \u001b[38;5;66;03m# IOI 패턴 발견\u001b[39;00m\n\u001b[1;32m     15\u001b[0m         \u001b[38;5;28;01mif\u001b[39;00m pattern \u001b[38;5;241m==\u001b[39m N:  \u001b[38;5;66;03m# 원하는 패턴 길이에 도달\u001b[39;00m\n",
      "\u001b[0;31mIndexError\u001b[0m: string index out of range"
     ]
    }
   ],
   "source": [
    "#5525\n",
    "\n",
    "#--- 모범답안\n",
    "N = int(input())  # IOI 패턴에서 O의 개수\n",
    "M = int(input())  # 주어진 문자열의 길이\n",
    "S = input()  # 주어진 문자열\n",
    "\n",
    "result = 0  # 찾은 패턴의 개수\n",
    "pattern = 0  # 현재까지 연속된 IOI 패턴의 길이\n",
    "\n",
    "i = 1\n",
    "while i < M-1:\n",
    "    if S[i-1] == 'I' and S[i] == 'O' and S[i+1] == 'I':\n",
    "        pattern += 1  # IOI 패턴 발견\n",
    "        if pattern == N:  # 원하는 패턴 길이에 도달\n",
    "            result += 1\n",
    "            pattern -= 1  # 패턴 길이를 하나 줄여서 다음 가능성 탐색\n",
    "        i += 1  # 패턴을 찾았으므로 한 칸 더 이동\n",
    "    else:\n",
    "        pattern = 0  # 패턴이 끊겼으므로 초기화\n",
    "    i += 1\n",
    "\n",
    "print(result)\n",
    "\n",
    "\n",
    "#----- 재풀이 100점\n",
    "import sys\n",
    "\n",
    "n = int(sys.stdin.readline().rstrip())\n",
    "m= int(sys.stdin.readline().rstrip())\n",
    "s = sys.stdin.readline().rstrip()\n",
    "p = 0\n",
    "count = 0\n",
    "for i in range(m-2):\n",
    "  if ''.join(s[i:i+3]) == 'IOI':\n",
    "    p += 1\n",
    "    if p == n:\n",
    "      count+=1\n",
    "      p-=1\n",
    "  elif s[i] == 'I':\n",
    "    p=0\n",
    "\n",
    "print(count)\n",
    "#--------------- 50점 ------------------\n",
    "# import sys\n",
    "\n",
    "# n = 'IO'*int(sys.stdin.readline().rstrip())+'I'\n",
    "# m = int(sys.stdin.readline().rstrip())\n",
    "# s = list(sys.stdin.readline().rstrip())\n",
    "# count= 0\n",
    "# for idx, i in enumerate(s):\n",
    "#   if i == 'I':\n",
    "#     if n == ''.join(s[idx:(idx+len(n))]):\n",
    "#       count+=1\n",
    "\n",
    "# print(count)"
   ]
  },
  {
   "cell_type": "code",
   "execution_count": null,
   "metadata": {},
   "outputs": [],
   "source": [
    "#6064\n",
    "\n",
    "#x제한 m y제한 n <x:y>는 몇번째 해? 유효하지않다면 -1\n",
    "# m,n,x,y = 10, 12, 3, 9\n",
    "#<3,9>를 구하려면?\n",
    "# 00,01,02,03,04,05,... 1,11 2 12. 3 1. 4 2. 5 .3\n",
    "\n",
    "import sys\n",
    "\n",
    "def gcd(n, m):\n",
    "  while m>0:\n",
    "    n, m = m, n % m\n",
    "  return n\n",
    "\n",
    "def func (m, n, x, y):\n",
    "  target = x\n",
    "  until = m*n / gcd(max(m,n),min(m,n))\n",
    "  while target <= until:\n",
    "    if (target - x) % m == 0 and (target - y) % n == 0:\n",
    "      return target\n",
    "    else:\n",
    "      target += m\n",
    "  return -1     \n",
    "\n",
    "t = int(sys.stdin.readline())\n",
    "for _ in range(t):\n",
    "  m,n,x,y = map(int,sys.stdin.readline().split())\n",
    "  print(func(m, n, x, y))\n",
    "\n",
    "# 메모리 초과\n",
    "\n",
    "# import sys\n",
    "\n",
    "# def gcd(n, m):\n",
    "#   while m>0:\n",
    "#     n, m = m, n % m\n",
    "#   return n\n",
    "\n",
    "# t = int(sys.stdin.readline())\n",
    "# for _ in range(t):\n",
    "#   m,n,x,y = map(int,sys.stdin.readline().split())\n",
    "#   years = {}\n",
    "#   i = 1\n",
    "#   until = m*n / gcd(max(m,n),min(m,n))\n",
    "#   while i <= until:\n",
    "#     years[( m if i % m == 0 else i % m, n if i % n == 0 else i % n)] = i\n",
    "#     i+=1\n",
    "#   print(years.get((x, y),-1))"
   ]
  },
  {
   "cell_type": "code",
   "execution_count": 42,
   "metadata": {},
   "outputs": [
    {
     "name": "stdout",
     "output_type": "stream",
     "text": [
      "EMPTY\n"
     ]
    }
   ],
   "source": [
    "# 7662\n",
    "# 시간초과ㅏㅏㅏㅏㅏㅏㅏㅏㅏㅏㅏㅏㅏㅏㅏㅏㅏㅏㅏㅏㅏㅏㅏㅏㅏㅏㅏㅏㅏㅏㅏㅏㅏㅏㅏㅏㅏㅏㅏㅏㅏㅏㅏㅏㅏㅏㅏㅏㅏㅏㅏㅏㅏㅏㅏㅏㅏㅏㅏㅏㅏㅏㅏㅏㅏㅏ\n",
    "import heapq\n",
    "import sys\n",
    "t = int(sys.stdin.readline())\n",
    "for _ in range(t):\n",
    "    min_heap = []\n",
    "    max_heap = []\n",
    "    counts = {}\n",
    "    k = int(sys.stdin.readline())\n",
    "    for _ in range(k):\n",
    "        cal, n = sys.stdin.readline().split()\n",
    "        n = int(n)\n",
    "        if cal == \"I\":\n",
    "            counts[n] = counts.get(n, 0) + 1\n",
    "            if counts[n] == 1:\n",
    "                heapq.heappush(min_heap, n)\n",
    "                heapq.heappush(max_heap, -n)    \n",
    "        else:\n",
    "            if any(counts.values()):\n",
    "                if n == 1:\n",
    "                    # 삭제된 값 확인\n",
    "                    while max_heap and counts.get(-max_heap[0],0) < 1:\n",
    "                        val = -heapq.heappop(max_heap)\n",
    "                        if val in counts:\n",
    "                            del(counts[val]) \n",
    "                    counts[-max_heap[0]] -= 1\n",
    "                else:\n",
    "                    while min_heap and counts.get(min_heap[0],0) < 1:\n",
    "                        val = heapq.heappop(min_heap)\n",
    "                        if val in counts:\n",
    "                            del(counts[val]) \n",
    "                    counts[min_heap[0]] -= 1\n",
    "    if any(counts.values()):\n",
    "        while max_heap and counts.get(-max_heap[0],0) < 1:\n",
    "            heapq.heappop(max_heap)\n",
    "        while min_heap and counts.get(min_heap[0],0) < 1:\n",
    "            heapq.heappop(min_heap)\n",
    "        print(-max_heap[0], min_heap[0])\n",
    "    else:\n",
    "        print('EMPTY')"
   ]
  },
  {
   "cell_type": "code",
   "execution_count": 51,
   "metadata": {},
   "outputs": [
    {
     "name": "stdout",
     "output_type": "stream",
     "text": [
      "333 -45\n"
     ]
    }
   ],
   "source": [
    "import heapq\n",
    "import sys\n",
    "t = int(input())\n",
    "for _ in range(t):\n",
    "    min_heap = []\n",
    "    max_heap = []\n",
    "    counts = {}\n",
    "    k = int(input())\n",
    "    for _ in range(k):\n",
    "        cal, n = input().split()\n",
    "        n = int(n)\n",
    "        if cal == \"I\":\n",
    "            counts[n] = counts.get(n, 0) + 1\n",
    "            heapq.heappush(min_heap, n)\n",
    "            heapq.heappush(max_heap, -n)    \n",
    "        else:\n",
    "            if n == 1 and max_heap:\n",
    "                counts[-heapq.heappop(max_heap)] -= 1\n",
    "            elif n == -1 and min_heap:\n",
    "                counts[heapq.heappop(min_heap)] -= 1\n",
    "        \n",
    "        # 최소값 삭제이후 허수 값 제거\n",
    "        while max_heap and counts[-max_heap[0]] <= 0:\n",
    "            heapq.heappop(max_heap)\n",
    "        while min_heap and counts[min_heap[0]] <= 0:\n",
    "            heapq.heappop(min_heap)\n",
    "\n",
    "    if max_heap == []:\n",
    "        print(\"EMPTY\")\n",
    "    else:\n",
    "        print(-max_heap[0], min_heap[0])\n"
   ]
  },
  {
   "cell_type": "code",
   "execution_count": null,
   "metadata": {},
   "outputs": [
    {
     "name": "stdout",
     "output_type": "stream",
     "text": [
      "True\n"
     ]
    }
   ],
   "source": [
    "test = {1:1, 2:0}\n",
    "\n",
    "print(any(True for v in test.values() if v >0))\n"
   ]
  }
 ],
 "metadata": {
  "kernelspec": {
   "display_name": "Python 3",
   "language": "python",
   "name": "python3"
  },
  "language_info": {
   "codemirror_mode": {
    "name": "ipython",
    "version": 3
   },
   "file_extension": ".py",
   "mimetype": "text/x-python",
   "name": "python",
   "nbconvert_exporter": "python",
   "pygments_lexer": "ipython3",
   "version": "3.10.12"
  }
 },
 "nbformat": 4,
 "nbformat_minor": 2
}
